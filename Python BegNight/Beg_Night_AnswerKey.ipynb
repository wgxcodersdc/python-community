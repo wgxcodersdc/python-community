{
 "cells": [
  {
   "cell_type": "markdown",
   "metadata": {},
   "source": [
    "# First program, save as Beg_Night  -------                                 WGXCDC  Oct 2019"
   ]
  },
  {
   "cell_type": "code",
   "execution_count": null,
   "metadata": {},
   "outputs": [],
   "source": [
    "print(\"Hello World\")"
   ]
  },
  {
   "cell_type": "markdown",
   "metadata": {},
   "source": [
    "Get input from the keyboard and create a new statement"
   ]
  },
  {
   "cell_type": "code",
   "execution_count": null,
   "metadata": {
    "scrolled": true
   },
   "outputs": [],
   "source": [
    "name = input(\"Enter your name:  \")"
   ]
  },
  {
   "cell_type": "code",
   "execution_count": null,
   "metadata": {},
   "outputs": [],
   "source": [
    "print(\"Hello World from \" + name)"
   ]
  },
  {
   "cell_type": "markdown",
   "metadata": {},
   "source": [
    "# Syntax and format - above and below in a function.  There's many ways to develop and execute a greeting in Python.\n",
    "# Understanding the syntax."
   ]
  },
  {
   "cell_type": "markdown",
   "metadata": {},
   "source": [
    "Develop a function to execute a greeting with a statement and input name"
   ]
  },
  {
   "cell_type": "code",
   "execution_count": null,
   "metadata": {},
   "outputs": [],
   "source": [
    "def greetings(in_name):\n",
    "    statement = (\"Hello World from \" + in_name + \"!!!\")\n",
    "    print (statement)"
   ]
  },
  {
   "cell_type": "markdown",
   "metadata": {},
   "source": [
    "Call the function with the variable 'name' (used in code above with input from keyboard)"
   ]
  },
  {
   "cell_type": "code",
   "execution_count": null,
   "metadata": {},
   "outputs": [],
   "source": [
    "greetings(name)"
   ]
  },
  {
   "cell_type": "markdown",
   "metadata": {},
   "source": [
    "Call the function with a input string"
   ]
  },
  {
   "cell_type": "code",
   "execution_count": null,
   "metadata": {},
   "outputs": [],
   "source": [
    "greetings(\"Robert\")"
   ]
  },
  {
   "cell_type": "markdown",
   "metadata": {},
   "source": [
    "# Data Structure Create a function that converts temperature using IF ELSE to decide which conversion to use"
   ]
  },
  {
   "cell_type": "code",
   "execution_count": null,
   "metadata": {},
   "outputs": [],
   "source": [
    "def tempConvert(temp, num=1):\n",
    "    def celsius_to_fahrenheit(c_temp):\n",
    "        return 9.0/5.0*c_temp + 32\n",
    "    \n",
    "    def fahrenheit_to_celsius(f_temp):\n",
    "        return (f_temp - 32.0)*5.0/9.0\n",
    "    \n",
    "    if num ==1:\n",
    "        result = celsius_to_fahrenheit(temp)\n",
    "        print (str(temp)+ \" celsius to fahrenheit: \")\n",
    "    elif num ==2:\n",
    "        result = fahrenheit_to_celsius(temp)\n",
    "        print (str(temp)+ \" fahrenheit to celsius: \")\n",
    "    else:\n",
    "        result = 0\n",
    "        print(\"Temp code not valid:\")\n",
    "    print(result)"
   ]
  },
  {
   "cell_type": "markdown",
   "metadata": {},
   "source": [
    "Call tempConvert function with values of (12.78) (100,2) (100,3)"
   ]
  },
  {
   "cell_type": "code",
   "execution_count": null,
   "metadata": {},
   "outputs": [],
   "source": [
    "tempConvert(12.78)"
   ]
  },
  {
   "cell_type": "code",
   "execution_count": null,
   "metadata": {},
   "outputs": [],
   "source": [
    "tempConvert(100,2)"
   ]
  },
  {
   "cell_type": "code",
   "execution_count": null,
   "metadata": {},
   "outputs": [],
   "source": [
    "tempConvert(100,3)"
   ]
  },
  {
   "cell_type": "markdown",
   "metadata": {},
   "source": [
    "# Python Standard Library - datetime"
   ]
  },
  {
   "cell_type": "code",
   "execution_count": null,
   "metadata": {},
   "outputs": [],
   "source": [
    "   def greetings2(in_name):\n",
    "    import datetime\n",
    "    datetime_obj = datetime.datetime.now()\n",
    "\n",
    "    statement1 = (\"Hello World from \" + in_name + \"!!!\")\n",
    "    statement2 = (\"Current date and time:  \")\n",
    "    print (statement1) \n",
    "    print (statement2)\n",
    "    print (datetime_obj)\n",
    "   "
   ]
  },
  {
   "cell_type": "code",
   "execution_count": null,
   "metadata": {},
   "outputs": [],
   "source": [
    "greetings2(\"Violet\")"
   ]
  }
 ],
 "metadata": {
  "kernelspec": {
   "display_name": "Python 3",
   "language": "python",
   "name": "python3"
  },
  "language_info": {
   "codemirror_mode": {
    "name": "ipython",
    "version": 3
   },
   "file_extension": ".py",
   "mimetype": "text/x-python",
   "name": "python",
   "nbconvert_exporter": "python",
   "pygments_lexer": "ipython3",
   "version": "3.7.3"
  }
 },
 "nbformat": 4,
 "nbformat_minor": 2
}
