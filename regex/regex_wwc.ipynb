{
 "cells": [
  {
   "cell_type": "code",
   "execution_count": 0,
   "metadata": {
    "colab": {},
    "colab_type": "code",
    "id": "PPgZ0IwOx1Nc"
   },
   "outputs": [],
   "source": [
    "#import the python library 're' for regular expressions \n",
    "\n",
    "import re"
   ]
  },
  {
   "cell_type": "markdown",
   "metadata": {
    "colab_type": "text",
    "id": "YO35zF4EJp0t"
   },
   "source": [
    "#Metacharacters\n",
    "\n",
    "- characters which have a special meaning\n",
    "- Python regex has 12 metacharacters\n",
    "- If you want your regex to match them literally, you need to escape them by placing a backslash `(\\)` in front of them.\n"
   ]
  },
  {
   "cell_type": "markdown",
   "metadata": {
    "colab_type": "text",
    "id": "rlxSOP-LSaF5"
   },
   "source": [
    "\n",
    "\n",
    "![alt text](https://www.optimizesmart.com/wp-content/uploads/2010/06/regex-cheatsheet-for-Google-Analytics1.jpg)\n",
    "\n"
   ]
  },
  {
   "cell_type": "code",
   "execution_count": 0,
   "metadata": {
    "colab": {},
    "colab_type": "code",
    "id": "CFOc9xx96fzH"
   },
   "outputs": [],
   "source": [
    "#caret\n",
    "\n",
    "re.search(\"^\\d\", \"number 123\")"
   ]
  },
  {
   "cell_type": "code",
   "execution_count": 33,
   "metadata": {
    "colab": {
     "base_uri": "https://localhost:8080/",
     "height": 35
    },
    "colab_type": "code",
    "id": "vt5KZYst-mcD",
    "outputId": "9b7ddf84-e276-45fb-f4b6-613599ec132b"
   },
   "outputs": [
    {
     "data": {
      "text/plain": [
       "<_sre.SRE_Match object; span=(0, 1), match='1'>"
      ]
     },
     "execution_count": 33,
     "metadata": {
      "tags": []
     },
     "output_type": "execute_result"
    }
   ],
   "source": [
    "re.search(\"^\\d\", \"123\")"
   ]
  },
  {
   "cell_type": "code",
   "execution_count": 25,
   "metadata": {
    "colab": {
     "base_uri": "https://localhost:8080/",
     "height": 35
    },
    "colab_type": "code",
    "id": "UJ8vKnbi-sxy",
    "outputId": "f6419e39-7fd6-4452-d926-8cf04673ddee"
   },
   "outputs": [
    {
     "data": {
      "text/plain": [
       "<_sre.SRE_Match object; span=(9, 10), match='3'>"
      ]
     },
     "execution_count": 25,
     "metadata": {
      "tags": []
     },
     "output_type": "execute_result"
    }
   ],
   "source": [
    "#dollar \n",
    "\n",
    "re.search(\"\\d$\", \"number 123\")"
   ]
  },
  {
   "cell_type": "code",
   "execution_count": 31,
   "metadata": {
    "colab": {
     "base_uri": "https://localhost:8080/",
     "height": 35
    },
    "colab_type": "code",
    "id": "jhKoLgkr-yn_",
    "outputId": "ab62a9f5-c948-4749-d3f7-561815f90a26"
   },
   "outputs": [
    {
     "data": {
      "text/plain": [
       "<_sre.SRE_Match object; span=(0, 3), match='123'>"
      ]
     },
     "execution_count": 31,
     "metadata": {
      "tags": []
     },
     "output_type": "execute_result"
    }
   ],
   "source": [
    "#plus sign\n",
    "\n",
    "re.search(\"^\\d+\", \"123\")"
   ]
  },
  {
   "cell_type": "code",
   "execution_count": 0,
   "metadata": {
    "colab": {},
    "colab_type": "code",
    "id": "nEQpbr_3_M9c"
   },
   "outputs": [],
   "source": [
    "#dot\n",
    "\n",
    "re.search(\"^\\d.\", \"number 123\")"
   ]
  },
  {
   "cell_type": "code",
   "execution_count": 34,
   "metadata": {
    "colab": {
     "base_uri": "https://localhost:8080/",
     "height": 35
    },
    "colab_type": "code",
    "id": "0-ZBwTT3_RN4",
    "outputId": "e0ce6284-43d7-4d04-9085-d6cc339157be"
   },
   "outputs": [
    {
     "data": {
      "text/plain": [
       "<_sre.SRE_Match object; span=(13, 16), match='dog'>"
      ]
     },
     "execution_count": 34,
     "metadata": {
      "tags": []
     },
     "output_type": "execute_result"
    }
   ],
   "source": [
    "#pipe symbol\n",
    "\n",
    "re.search(\"cat|dog\", \"I have a pet dog\")"
   ]
  },
  {
   "cell_type": "code",
   "execution_count": 40,
   "metadata": {
    "colab": {
     "base_uri": "https://localhost:8080/",
     "height": 35
    },
    "colab_type": "code",
    "id": "D-Go6F3Q_7Rx",
    "outputId": "5d6a7c78-e45a-4f7e-e038-818a4419345d"
   },
   "outputs": [
    {
     "data": {
      "text/plain": [
       "<_sre.SRE_Match object; span=(14, 17), match='(®)'>"
      ]
     },
     "execution_count": 40,
     "metadata": {
      "tags": []
     },
     "output_type": "execute_result"
    }
   ],
   "source": [
    "#escape character\n",
    "\n",
    "s = \"The trademark (®) symbol is a symbol to indicate that the preceding mark is a trademark.\"\n",
    "\n",
    "re.search(\"\\(.\\)\", s)"
   ]
  },
  {
   "cell_type": "code",
   "execution_count": 41,
   "metadata": {
    "colab": {
     "base_uri": "https://localhost:8080/",
     "height": 35
    },
    "colab_type": "code",
    "id": "MP8H6UPkC8oV",
    "outputId": "b1b0053c-e744-42d7-dac5-5248041b88aa"
   },
   "outputs": [
    {
     "data": {
      "text/plain": [
       "<_sre.SRE_Match object; span=(13, 17), match='1990'>"
      ]
     },
     "execution_count": 41,
     "metadata": {
      "tags": []
     },
     "output_type": "execute_result"
    }
   ],
   "source": [
    "#curly brackets\n",
    "\n",
    "s = \"the year was 1990\"\n",
    "\n",
    "#re.search(\"\\d\\d\\d\\d\", s)\n",
    "re.search(\"\\d{4}\", s)\n"
   ]
  },
  {
   "cell_type": "markdown",
   "metadata": {
    "colab_type": "text",
    "id": "hI285EsUTGUE"
   },
   "source": [
    "#Character Class\n",
    "\n",
    "A character class matches a single character out of a list of possible characters. The notation uses square brackets to list the character options. \n",
    "\n",
    "eg. `<[CcKk]ate>` is a regex with character class notation to indicate possible ways the name 'Kate' could be spelled.\n",
    "\n",
    "\n",
    "**By default, regular expressions are case sensitive.\n",
    "\n",
    "ex. ‹regex› matches regex but not Regex, REGEX, or ReGeX. "
   ]
  },
  {
   "cell_type": "markdown",
   "metadata": {
    "colab_type": "text",
    "id": "EGMCupfyUsyu"
   },
   "source": [
    "* Inside a character class, only four characters have a special function: ` \\, ^, -, and ]`\n",
    "\n",
    "* All other characters are literals and simply add themselves to the character class. The regular expression ` ‹[$()*+.?{|]› ` matches any one of the nine characters between the square brackets.\n",
    "\n",
    "* A caret `(^)` negates the character class if you place it immediately after the opening bracket. It makes the character class match any character that is not in the list.\n",
    "\n",
    "* A hyphen `(-)` creates a range when it is placed between two characters. eg. `[a-zA-Z]` includes all upper and lowercase alphabets, whereas, `[a-h]` includes only lowercase alphabets from a to h."
   ]
  },
  {
   "cell_type": "code",
   "execution_count": 45,
   "metadata": {
    "colab": {
     "base_uri": "https://localhost:8080/",
     "height": 35
    },
    "colab_type": "code",
    "id": "EU0UW2D0Dvuv",
    "outputId": "b681509c-ed19-4044-bb44-8a135e4809d4"
   },
   "outputs": [
    {
     "data": {
      "text/plain": [
       "\"Its easy to misspell calendar as calendar or calendar so let's check using regex for all possible spellings\""
      ]
     },
     "execution_count": 45,
     "metadata": {
      "tags": []
     },
     "output_type": "execute_result"
    }
   ],
   "source": [
    "#example\n",
    "\n",
    "s = \"Its easy to misspell Calendar as calender or calander so let's check using regex for all possible spellings\"\n",
    "\n",
    "re.sub(\"[Cc]al[ae]nd[ae]r\", \"calendar\", s)"
   ]
  },
  {
   "cell_type": "code",
   "execution_count": 37,
   "metadata": {
    "colab": {
     "base_uri": "https://localhost:8080/",
     "height": 35
    },
    "colab_type": "code",
    "id": "ohWAIEhHGEba",
    "outputId": "18a3c644-1f99-4a69-d1bf-9ae095b3c000"
   },
   "outputs": [
    {
     "data": {
      "text/plain": [
       "['1997', '1776']"
      ]
     },
     "execution_count": 37,
     "metadata": {
      "tags": []
     },
     "output_type": "execute_result"
    }
   ],
   "source": [
    "#example to use hyphen\n",
    "\n",
    "#find the year strings in a text using hyphen\n",
    "\n",
    "s = \"US Senate Resolution 155 of 10 November 1997 states that the Declaration of Arbroath, the Scottish Declaration of Independence, was signed on 6 April 1320 and the American Declaration of Independence, 1776 was modelled on that inspirational document\"\n",
    "\n",
    "re.findall(\"[12][7-9][0-9]{2}\", s)\n"
   ]
  },
  {
   "cell_type": "code",
   "execution_count": 43,
   "metadata": {
    "colab": {
     "base_uri": "https://localhost:8080/",
     "height": 329
    },
    "colab_type": "code",
    "id": "-yIaSBw8nUgS",
    "outputId": "f87581a3-f73e-4889-9679-101cd508cfc1"
   },
   "outputs": [
    {
     "data": {
      "text/plain": [
       "['1',\n",
       " '5',\n",
       " '5',\n",
       " '1',\n",
       " '0',\n",
       " '1',\n",
       " '9',\n",
       " '9',\n",
       " '7',\n",
       " '6',\n",
       " '1',\n",
       " '3',\n",
       " '2',\n",
       " '0',\n",
       " '1',\n",
       " '7',\n",
       " '7',\n",
       " '6']"
      ]
     },
     "execution_count": 43,
     "metadata": {
      "tags": []
     },
     "output_type": "execute_result"
    }
   ],
   "source": [
    "#all characters except alphabets using caret\n",
    "\n",
    "re.findall(\"[^a-zA-Z\\s,]\", s)"
   ]
  },
  {
   "cell_type": "markdown",
   "metadata": {
    "colab_type": "text",
    "id": "5n7jKU1FU0sV"
   },
   "source": [
    "#Shorthands\n",
    "\n",
    "Six regex tokens that consist of a backslash and a letter form shorthand character classes: `‹\\d›, ‹\\D›, ‹\\w›, ‹\\W›, ‹\\s› and ‹\\S›`.\n",
    "\n",
    "You can use these both inside and outside character classes. Each lowercase shorthand character has an associated uppercase shorthand character with the opposite meaning.\n",
    "\n",
    "- `‹\\d›` match a single digit.\n",
    "- `‹\\w›` matches a single word character.\n",
    "- `‹\\s›` matches any whitespace character. \n",
    "\n",
    "A word character is a character that can occur as part of a word. That includes letters, digits, and the underscore."
   ]
  },
  {
   "cell_type": "markdown",
   "metadata": {
    "colab_type": "text",
    "id": "3MDS0oxzh6so"
   },
   "source": [
    "#ANCHORS:\n",
    "\n",
    "The regular expression tokens `‹^›, ‹$›, ‹\\A›, ‹\\Z›  ` are called anchors. They do not match any characters. Instead, they match at certain positions, effectively anchoring the regular expression match at those positions.\n",
    "\n",
    "- The anchor `‹\\A›` always matches at the very start of the subject text, before the first character. That is the only place where it matches.\n",
    "\n",
    "- The anchor `‹^›` is equivalent to `‹\\A›`\n",
    "\n",
    "- The anchors `‹\\Z›` always match at the very end of the subject text, after the last character. The anchor `‹$›` is equivalent to `‹\\Z›`"
   ]
  },
  {
   "cell_type": "markdown",
   "metadata": {
    "colab_type": "text",
    "id": "KoBDdMqoh9dR"
   },
   "source": [
    "# Grouping and Capturing\n",
    "\n",
    "If you want something in your regex to be excluded from the alternation, you have to group the alternatives. Grouping is done with parentheses. They have the highest precedence of all regex operators. "
   ]
  },
  {
   "cell_type": "markdown",
   "metadata": {
    "colab_type": "text",
    "id": "D1R_ch3sjBIz"
   },
   "source": [
    "However, a pair of parentheses isn’t just a group; it’s a capturing group. **Captures** become useful when they cover only part of the regular expression. \n"
   ]
  },
  {
   "cell_type": "markdown",
   "metadata": {
    "colab_type": "text",
    "id": "dZYRunHn5cow"
   },
   "source": [
    "Problem: Create a regular expression that matches any date in yyyy-mm-dd format, and separately captures the year, month, and day."
   ]
  },
  {
   "cell_type": "code",
   "execution_count": 0,
   "metadata": {
    "colab": {},
    "colab_type": "code",
    "id": "nB11MmqN8JB8"
   },
   "outputs": [],
   "source": [
    "#@title TRY IT HERE"
   ]
  },
  {
   "cell_type": "code",
   "execution_count": 0,
   "metadata": {
    "cellView": "both",
    "colab": {},
    "colab_type": "code",
    "id": "JXeTTtPs44Mh"
   },
   "outputs": [],
   "source": [
    "#@title Solution\n",
    "\n",
    "d = \"2007-03-13\"\n",
    "\n",
    "x = re.search(r\"(\\d\\d\\d\\d)-(\\d\\d)-(\\d\\d)\", d)\n",
    "x.group()"
   ]
  },
  {
   "cell_type": "code",
   "execution_count": 0,
   "metadata": {
    "colab": {},
    "colab_type": "code",
    "id": "KxnYdqao5-UP"
   },
   "outputs": [],
   "source": [
    "print(x.group(1), x.group(2), x.group(3))"
   ]
  },
  {
   "cell_type": "code",
   "execution_count": 46,
   "metadata": {
    "colab": {
     "base_uri": "https://localhost:8080/",
     "height": 69
    },
    "colab_type": "code",
    "id": "u6mp_-RL6JEQ",
    "outputId": "549d07b7-1b88-4da0-cb13-3f84aa292563"
   },
   "outputs": [
    {
     "name": "stdout",
     "output_type": "stream",
     "text": [
      "2007\n",
      "03\n",
      "13\n"
     ]
    }
   ],
   "source": [
    "#named capture groups\n",
    "\n",
    "d = \"2007-03-13\"\n",
    "\n",
    "x = re.search(r\"\\b(?P<year>\\d\\d\\d\\d)-(?P<month>\\d\\d)-(?P<day>\\d\\d)\\b\", d)\n",
    "\n",
    "print(x.group('year'))\n",
    "print(x.group('month'))\n",
    "print(x.group('day'))"
   ]
  },
  {
   "cell_type": "markdown",
   "metadata": {
    "colab_type": "text",
    "id": "k5b5BLjKj0d5"
   },
   "source": [
    "#LAZY QUANTIFIERS\n",
    "\n",
    "\n",
    "> You can make any quantifier lazy by placing a question mark after it: `‹*?›, ‹+?›, ‹??›, and ‹{7,42}?›` are all lazy quantifiers.\n",
    "\n",
    "Lazy quantifiers backtrack too, but the other way around. A lazy quantifier repeats as few times as it has to, stores one backtracking position, and allows the regex to continue.\n",
    "\n",
    "\n",
    "The quantifiers `‹*› and ‹*?›` allow all the same regular expression matches. The only difference is the order in which the possible matches are tried. The greedy quantifier will find the longest possible match. The lazy quantifier will find the shortest possible match."
   ]
  },
  {
   "cell_type": "code",
   "execution_count": 0,
   "metadata": {
    "colab": {},
    "colab_type": "code",
    "id": "K-4fSvKikeQj"
   },
   "outputs": [],
   "source": [
    "s = \"<p> The very <em>first</em> task is to find the beginning of a paragraph. </p> <p> Then you have to find the end of the paragraph </p>\"\n",
    "\n",
    "\n",
    "re.search(\"<p>.*</p>\", s).group()"
   ]
  },
  {
   "cell_type": "code",
   "execution_count": 0,
   "metadata": {
    "colab": {},
    "colab_type": "code",
    "id": "LiPt2izAkjlb"
   },
   "outputs": [],
   "source": [
    "re.search(\"<p>.*?</p>\", s).group()"
   ]
  },
  {
   "cell_type": "markdown",
   "metadata": {
    "colab_type": "text",
    "id": "IscjLUAAudyH"
   },
   "source": [
    "#RE Functions:\n",
    "\n",
    "\n",
    "1. **`re.search(pattern, string, flags)`** [link text](https://docs.python.org/3/library/re.html#re.search)\n",
    "\n",
    "> Scan through string looking for the first location where the regular expression pattern produces a match, and return a corresponding match object.\n"
   ]
  },
  {
   "cell_type": "code",
   "execution_count": 7,
   "metadata": {
    "colab": {
     "base_uri": "https://localhost:8080/",
     "height": 35
    },
    "colab_type": "code",
    "id": "snY6hlcUwEph",
    "outputId": "782e7331-b3df-4b53-dd04-932bae4a9876"
   },
   "outputs": [
    {
     "data": {
      "text/plain": [
       "<_sre.SRE_Match object; span=(11, 18), match='HR 1234'>"
      ]
     },
     "execution_count": 7,
     "metadata": {
      "tags": []
     },
     "output_type": "execute_result"
    }
   ],
   "source": [
    "s = \"bill list: HR 1234, S 1023, S 234, HR 4505, S 8098\"\n",
    "\n",
    "re.search(\"(HR|S) (\\d{3,4})\", s)"
   ]
  },
  {
   "cell_type": "markdown",
   "metadata": {
    "colab_type": "text",
    "id": "-wlyDGAkvWG7"
   },
   "source": []
  },
  {
   "cell_type": "code",
   "execution_count": 0,
   "metadata": {
    "colab": {},
    "colab_type": "code",
    "id": "efA8hTHCyV2S"
   },
   "outputs": [],
   "source": [
    "s = \"bill list: HR 1234, S 1023, S 234, HR 4505, S 8098\"\n",
    "\n",
    "re.match(\"(HR|S) (\\d{3,4})\", s)"
   ]
  },
  {
   "cell_type": "code",
   "execution_count": 10,
   "metadata": {
    "colab": {
     "base_uri": "https://localhost:8080/",
     "height": 52
    },
    "colab_type": "code",
    "id": "0bWQQYqayciG",
    "outputId": "ae890995-efef-4bb3-dc3a-d2dad2ab61a6"
   },
   "outputs": [
    {
     "name": "stdout",
     "output_type": "stream",
     "text": [
      "HR\n",
      "1234\n"
     ]
    }
   ],
   "source": [
    "s = \"bill list: HR 1234, S 1023, S 234, HR 4505, S 8098\"\n",
    "\n",
    "x = re.search(\"(HR|S) (\\d{3,4})\", s)\n",
    "\n",
    "print(x.group(1))\n",
    "print(x.group(2))"
   ]
  },
  {
   "cell_type": "markdown",
   "metadata": {
    "colab_type": "text",
    "id": "yeJr16ZPyvci"
   },
   "source": [
    "2. **`re.findall(pattern, string, flags)`**[link text](https://docs.python.org/3/library/re.html#re.findall)\n",
    "\n",
    "> Return all non-overlapping matches of pattern in string, as a list of strings."
   ]
  },
  {
   "cell_type": "code",
   "execution_count": 11,
   "metadata": {
    "colab": {
     "base_uri": "https://localhost:8080/",
     "height": 35
    },
    "colab_type": "code",
    "id": "Die3bTaXzWcW",
    "outputId": "184f0222-4fca-4586-9f4c-ed542f771895"
   },
   "outputs": [
    {
     "data": {
      "text/plain": [
       "[('HR', '1234'), ('S', '1023'), ('S', '234'), ('HR', '4505'), ('S', '8098')]"
      ]
     },
     "execution_count": 11,
     "metadata": {
      "tags": []
     },
     "output_type": "execute_result"
    }
   ],
   "source": [
    "s = \"bill list: HR 1234, S 1023, S 234, HR 4505, S 8098\"\n",
    "\n",
    "re.findall(\"(HR|S) (\\d{3,4})\", s)\n"
   ]
  },
  {
   "cell_type": "markdown",
   "metadata": {
    "colab_type": "text",
    "id": "PYYtqo9Gzg4a"
   },
   "source": [
    "3. **`re.sub(pattern, replacement, string)`**[link text](https://docs.python.org/3/library/re.html#re.sub)\n",
    "\n",
    "Return the string obtained by replacing the leftmost non-overlapping occurrences of pattern in string by the replacement repl. If the pattern isn’t found, string is returned unchanged."
   ]
  },
  {
   "cell_type": "code",
   "execution_count": 12,
   "metadata": {
    "colab": {
     "base_uri": "https://localhost:8080/",
     "height": 35
    },
    "colab_type": "code",
    "id": "Sx0BWBsGz-Yc",
    "outputId": "9847d4a9-e350-4488-90db-5bbef6ba1202"
   },
   "outputs": [
    {
     "data": {
      "text/plain": [
       "'billlist:HR1234,S1023,S234,HR4505,S8098'"
      ]
     },
     "execution_count": 12,
     "metadata": {
      "tags": []
     },
     "output_type": "execute_result"
    }
   ],
   "source": [
    "s = \"bill list: HR 1234, S 1023, S 234, HR 4505, S 8098\"\n",
    "\n",
    "re.sub('\\s', \"\", s)"
   ]
  },
  {
   "cell_type": "code",
   "execution_count": 13,
   "metadata": {
    "colab": {
     "base_uri": "https://localhost:8080/",
     "height": 35
    },
    "colab_type": "code",
    "id": "f3Y1I_9Z5j8j",
    "outputId": "ded1f970-66fe-45a6-b16c-9a489e06a100"
   },
   "outputs": [
    {
     "data": {
      "text/plain": [
       "'bill list: HR 123@, S 1023, S 23@, HR @505, S 8098'"
      ]
     },
     "execution_count": 13,
     "metadata": {
      "tags": []
     },
     "output_type": "execute_result"
    }
   ],
   "source": [
    "re.sub('4', \"@\", s)"
   ]
  },
  {
   "cell_type": "code",
   "execution_count": 21,
   "metadata": {
    "colab": {
     "base_uri": "https://localhost:8080/",
     "height": 35
    },
    "colab_type": "code",
    "id": "67RFQnSO5tdd",
    "outputId": "c903628c-c2a2-49dc-94cc-edcd881ff443"
   },
   "outputs": [
    {
     "data": {
      "text/plain": [
       "'bill list: HR -, S -, S 234, HR -, S -'"
      ]
     },
     "execution_count": 21,
     "metadata": {
      "tags": []
     },
     "output_type": "execute_result"
    }
   ],
   "source": [
    "re.sub('\\d{4}', \"-\", s)"
   ]
  },
  {
   "cell_type": "markdown",
   "metadata": {
    "colab_type": "text",
    "id": "2bjJo7FF8tYZ"
   },
   "source": [
    "#EXERCISES: "
   ]
  },
  {
   "cell_type": "code",
   "execution_count": 0,
   "metadata": {
    "cellView": "both",
    "colab": {},
    "colab_type": "code",
    "id": "2fsELK7n8xS1"
   },
   "outputs": [],
   "source": [
    "#@title 1. Write a regex to check that a string contains only a certain set of characters (in this case a-z, A-Z and 0-9)\n",
    "\n",
    "\n"
   ]
  },
  {
   "cell_type": "code",
   "execution_count": 52,
   "metadata": {
    "cellView": "both",
    "colab": {
     "base_uri": "https://localhost:8080/",
     "height": 52
    },
    "colab_type": "code",
    "id": "jQDmezUrq017",
    "outputId": "dbcafc85-5964-4615-fa5f-9b6620a96a89"
   },
   "outputs": [
    {
     "name": "stdout",
     "output_type": "stream",
     "text": [
      "False\n",
      "True\n"
     ]
    }
   ],
   "source": [
    "#@title test block\n",
    "\n",
    "print(bool(re.search(**insert regex**, \"ABCDEFabcdef123450\")))\n",
    "\n",
    "print(bool(re.search(**insert regex**, \"*&%@#!}{\")))"
   ]
  },
  {
   "cell_type": "code",
   "execution_count": 0,
   "metadata": {
    "cellView": "form",
    "colab": {},
    "colab_type": "code",
    "id": "w0QBqpvUPIIx"
   },
   "outputs": [],
   "source": [
    "#@title solution\n",
    "\n",
    "'[a-zA-Z0-9]'\n",
    "\n",
    "\n",
    "\n"
   ]
  },
  {
   "cell_type": "code",
   "execution_count": 0,
   "metadata": {
    "colab": {},
    "colab_type": "code",
    "id": "D_c6hJjRs6O8"
   },
   "outputs": [],
   "source": [
    "#@title 2.Write a regex for a US phone number(10-digit), extract the state code in a named capture group\n",
    "\n",
    "\n"
   ]
  },
  {
   "cell_type": "code",
   "execution_count": 4,
   "metadata": {
    "cellView": "both",
    "colab": {
     "base_uri": "https://localhost:8080/",
     "height": 35
    },
    "colab_type": "code",
    "id": "ebvTNyMVTx9E",
    "outputId": "0e11b0fe-3531-4778-bded-20718d85ced3"
   },
   "outputs": [
    {
     "name": "stdout",
     "output_type": "stream",
     "text": [
      "True\n"
     ]
    }
   ],
   "source": [
    "#@title test block\n",
    "\n",
    "print(bool(re.search(**insert regex**, \"2027893452\")))\n",
    "\n",
    "print(bool(re.search(**insert regex**, \"0902352234\")))\n",
    "\n",
    "print(bool(re.search(**insert regex**, \"2930352234\")))"
   ]
  },
  {
   "cell_type": "code",
   "execution_count": 0,
   "metadata": {
    "cellView": "form",
    "colab": {},
    "colab_type": "code",
    "id": "1nGiH6BkUDcr"
   },
   "outputs": [],
   "source": [
    "#@title solution\n",
    "\n",
    "'(?P<statecode>[2-9]\\d{2})[2-9][0-9]{6}'"
   ]
  },
  {
   "cell_type": "code",
   "execution_count": 0,
   "metadata": {
    "colab": {},
    "colab_type": "code",
    "id": "j_0ByHJNV3N9"
   },
   "outputs": [],
   "source": [
    "#@title 3. write a regex to replace all () in a text to whitespace\n",
    "\n",
    "\n"
   ]
  },
  {
   "cell_type": "code",
   "execution_count": 0,
   "metadata": {
    "colab": {},
    "colab_type": "code",
    "id": "3onKMyoBWBG0"
   },
   "outputs": [],
   "source": [
    "#@title test block\n",
    "\n",
    "print(re.sub(**insert regex**, \"sdkn(huy67)\"))\n",
    "\n",
    "print(re.sub(**insert regex**, \"(x+y+z)= (x+y)+z\"))\n",
    "\n"
   ]
  },
  {
   "cell_type": "code",
   "execution_count": 0,
   "metadata": {
    "cellView": "form",
    "colab": {},
    "colab_type": "code",
    "id": "7PkaNxWKWHGx"
   },
   "outputs": [],
   "source": [
    "#@title solution\n",
    "\n",
    "\"[\\(\\)]\"\n"
   ]
  }
 ],
 "metadata": {
  "colab": {
   "collapsed_sections": [],
   "name": "regex_WGXC.ipynb",
   "provenance": [],
   "version": "0.3.2"
  },
  "kernelspec": {
   "display_name": "Python 3",
   "language": "python",
   "name": "python3"
  },
  "language_info": {
   "codemirror_mode": {
    "name": "ipython",
    "version": 3
   },
   "file_extension": ".py",
   "mimetype": "text/x-python",
   "name": "python",
   "nbconvert_exporter": "python",
   "pygments_lexer": "ipython3",
   "version": "3.6.5"
  },
  "toc": {
   "base_numbering": 1,
   "nav_menu": {},
   "number_sections": true,
   "sideBar": true,
   "skip_h1_title": false,
   "title_cell": "Table of Contents",
   "title_sidebar": "Contents",
   "toc_cell": false,
   "toc_position": {},
   "toc_section_display": true,
   "toc_window_display": false
  },
  "varInspector": {
   "cols": {
    "lenName": 16,
    "lenType": 16,
    "lenVar": 40
   },
   "kernels_config": {
    "python": {
     "delete_cmd_postfix": "",
     "delete_cmd_prefix": "del ",
     "library": "var_list.py",
     "varRefreshCmd": "print(var_dic_list())"
    },
    "r": {
     "delete_cmd_postfix": ") ",
     "delete_cmd_prefix": "rm(",
     "library": "var_list.r",
     "varRefreshCmd": "cat(var_dic_list()) "
    }
   },
   "types_to_exclude": [
    "module",
    "function",
    "builtin_function_or_method",
    "instance",
    "_Feature"
   ],
   "window_display": false
  }
 },
 "nbformat": 4,
 "nbformat_minor": 1
}
