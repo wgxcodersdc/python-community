{
 "cells": [
  {
   "cell_type": "code",
   "execution_count": 1,
   "metadata": {},
   "outputs": [],
   "source": [
    "# Install the dependencies\n",
    "\n",
    "# !pip install matplotlib\n",
    "import pandas as pd\n",
    "import matplotlib.pyplot as plt\n",
    "\n",
    "%matplotlib inline\n",
    "\n",
    "from datetime import datetime\n",
    "import numpy as np"
   ]
  },
  {
   "cell_type": "code",
   "execution_count": 6,
   "metadata": {},
   "outputs": [
    {
     "name": "stdout",
     "output_type": "stream",
     "text": [
      "<class 'pandas.core.frame.DataFrame'>\n",
      "RangeIndex: 154357 entries, 0 to 154356\n",
      "Data columns (total 37 columns):\n",
      "Unnamed: 0                 154357 non-null int64\n",
      "SeqID                      154357 non-null object\n",
      "Date Of Stop               154357 non-null object\n",
      "Time Of Stop               154357 non-null object\n",
      "Agency                     154357 non-null object\n",
      "SubAgency                  154357 non-null object\n",
      "Description                154357 non-null object\n",
      "Location                   154357 non-null object\n",
      "Latitude                   154357 non-null float64\n",
      "Longitude                  154357 non-null float64\n",
      "Accident                   154357 non-null object\n",
      "Belts                      154357 non-null object\n",
      "Personal Injury            154357 non-null object\n",
      "Property Damage            154357 non-null object\n",
      "Fatal                      154357 non-null object\n",
      "Commercial License         154357 non-null object\n",
      "HAZMAT                     154357 non-null object\n",
      "Commercial Vehicle         154357 non-null object\n",
      "Alcohol                    154357 non-null object\n",
      "Work Zone                  154357 non-null object\n",
      "State                      154351 non-null object\n",
      "VehicleType                154357 non-null object\n",
      "Year                       153418 non-null float64\n",
      "Make                       154351 non-null object\n",
      "Model                      154341 non-null object\n",
      "Color                      152537 non-null object\n",
      "Violation Type             154357 non-null object\n",
      "Charge                     154357 non-null object\n",
      "Article                    146812 non-null object\n",
      "Contributed To Accident    154357 non-null bool\n",
      "Race                       154357 non-null object\n",
      "Gender                     154357 non-null object\n",
      "Driver City                154311 non-null object\n",
      "Driver State               154356 non-null object\n",
      "DL State                   154260 non-null object\n",
      "Arrest Type                154357 non-null object\n",
      "Geolocation                154357 non-null object\n",
      "dtypes: bool(1), float64(3), int64(1), object(32)\n",
      "memory usage: 42.5+ MB\n"
     ]
    }
   ],
   "source": [
    "#import data and clean data \n",
    "\n",
    "data = pd.read_csv(\"Traffic_Violations.csv\")\n",
    "data.info()"
   ]
  },
  {
   "cell_type": "code",
   "execution_count": 7,
   "metadata": {},
   "outputs": [
    {
     "data": {
      "text/html": [
       "<div>\n",
       "<style scoped>\n",
       "    .dataframe tbody tr th:only-of-type {\n",
       "        vertical-align: middle;\n",
       "    }\n",
       "\n",
       "    .dataframe tbody tr th {\n",
       "        vertical-align: top;\n",
       "    }\n",
       "\n",
       "    .dataframe thead th {\n",
       "        text-align: right;\n",
       "    }\n",
       "</style>\n",
       "<table border=\"1\" class=\"dataframe\">\n",
       "  <thead>\n",
       "    <tr style=\"text-align: right;\">\n",
       "      <th></th>\n",
       "      <th>Unnamed: 0</th>\n",
       "      <th>SeqID</th>\n",
       "      <th>Date Of Stop</th>\n",
       "      <th>Time Of Stop</th>\n",
       "      <th>Agency</th>\n",
       "      <th>SubAgency</th>\n",
       "      <th>Description</th>\n",
       "      <th>Location</th>\n",
       "      <th>Latitude</th>\n",
       "      <th>Longitude</th>\n",
       "      <th>...</th>\n",
       "      <th>Charge</th>\n",
       "      <th>Article</th>\n",
       "      <th>Contributed To Accident</th>\n",
       "      <th>Race</th>\n",
       "      <th>Gender</th>\n",
       "      <th>Driver City</th>\n",
       "      <th>Driver State</th>\n",
       "      <th>DL State</th>\n",
       "      <th>Arrest Type</th>\n",
       "      <th>Geolocation</th>\n",
       "    </tr>\n",
       "  </thead>\n",
       "  <tbody>\n",
       "    <tr>\n",
       "      <th>0</th>\n",
       "      <td>278508</td>\n",
       "      <td>8f3adb87-3bd3-47cd-83a3-565adc2451d5</td>\n",
       "      <td>09/24/2016</td>\n",
       "      <td>22:38:00</td>\n",
       "      <td>MCP</td>\n",
       "      <td>2nd District, Bethesda</td>\n",
       "      <td>DRIVING VEHICLE ON HIGHWAY WITH SUSPENDED REGI...</td>\n",
       "      <td>ROCKVILLE PIKE @ JONES BRIDGE RD</td>\n",
       "      <td>38.996395</td>\n",
       "      <td>-77.096420</td>\n",
       "      <td>...</td>\n",
       "      <td>13-401(h)</td>\n",
       "      <td>Transportation Article</td>\n",
       "      <td>False</td>\n",
       "      <td>OTHER</td>\n",
       "      <td>M</td>\n",
       "      <td>BETHESDA</td>\n",
       "      <td>MD</td>\n",
       "      <td>MD</td>\n",
       "      <td>A - Marked Patrol</td>\n",
       "      <td>(38.996395, -77.09642)</td>\n",
       "    </tr>\n",
       "    <tr>\n",
       "      <th>1</th>\n",
       "      <td>289430</td>\n",
       "      <td>c3cd94af-4b86-46cb-bf44-879067d9386a</td>\n",
       "      <td>12/16/2016</td>\n",
       "      <td>22:10:00</td>\n",
       "      <td>MCP</td>\n",
       "      <td>4th District, Wheaton</td>\n",
       "      <td>DRIVING VEHICLE ON HIGHWAY WITH SUSPENDED REGI...</td>\n",
       "      <td>ASPEN HILL @ CONNECTICUT</td>\n",
       "      <td>39.082190</td>\n",
       "      <td>-77.077323</td>\n",
       "      <td>...</td>\n",
       "      <td>13-401(h)</td>\n",
       "      <td>Transportation Article</td>\n",
       "      <td>False</td>\n",
       "      <td>WHITE</td>\n",
       "      <td>F</td>\n",
       "      <td>SILVER SPRING</td>\n",
       "      <td>MD</td>\n",
       "      <td>MD</td>\n",
       "      <td>A - Marked Patrol</td>\n",
       "      <td>(39.08219, -77.0773233333333)</td>\n",
       "    </tr>\n",
       "    <tr>\n",
       "      <th>2</th>\n",
       "      <td>295747</td>\n",
       "      <td>5d3f53a5-cde0-468a-bad6-3f63c61d37a2</td>\n",
       "      <td>05/14/2015</td>\n",
       "      <td>09:08:00</td>\n",
       "      <td>MCP</td>\n",
       "      <td>2nd District, Bethesda</td>\n",
       "      <td>DRIVER FAILURE TO STOP AT STOP SIGN LINE</td>\n",
       "      <td>CRYSTAL ROCK/ WATERS LANDING</td>\n",
       "      <td>39.196557</td>\n",
       "      <td>-77.273340</td>\n",
       "      <td>...</td>\n",
       "      <td>21-707(a)</td>\n",
       "      <td>Transportation Article</td>\n",
       "      <td>False</td>\n",
       "      <td>WHITE</td>\n",
       "      <td>M</td>\n",
       "      <td>GERMANTOWN</td>\n",
       "      <td>MD</td>\n",
       "      <td>MD</td>\n",
       "      <td>A - Marked Patrol</td>\n",
       "      <td>(39.1965566666667, -77.27334)</td>\n",
       "    </tr>\n",
       "    <tr>\n",
       "      <th>3</th>\n",
       "      <td>70800</td>\n",
       "      <td>27b9c3a8-805e-45c9-810d-7742d567c5e6</td>\n",
       "      <td>10/20/2012</td>\n",
       "      <td>19:43:00</td>\n",
       "      <td>MCP</td>\n",
       "      <td>1st District, Rockville</td>\n",
       "      <td>DRIVING TO DRIVE MOTOR VEHICLE ON HIGHWAY WITH...</td>\n",
       "      <td>VEIRS MILL RD AT GRIDLEY RD</td>\n",
       "      <td>0.000000</td>\n",
       "      <td>0.000000</td>\n",
       "      <td>...</td>\n",
       "      <td>16-101(a)</td>\n",
       "      <td>Transportation Article</td>\n",
       "      <td>False</td>\n",
       "      <td>WHITE</td>\n",
       "      <td>M</td>\n",
       "      <td>LANGLEY PARK</td>\n",
       "      <td>MD</td>\n",
       "      <td>XX</td>\n",
       "      <td>A - Marked Patrol</td>\n",
       "      <td>(0.0, 0.0)</td>\n",
       "    </tr>\n",
       "    <tr>\n",
       "      <th>4</th>\n",
       "      <td>105364</td>\n",
       "      <td>1274d66f-56dc-4933-b442-1bd471e65799</td>\n",
       "      <td>11/02/2018</td>\n",
       "      <td>14:50:00</td>\n",
       "      <td>MCP</td>\n",
       "      <td>3rd District, Silver Spring</td>\n",
       "      <td>EXCEEDING THE POSTED SPEED LIMIT OF 40 MPH</td>\n",
       "      <td>NEW HAMPSHIRE/ LOCKWOOD</td>\n",
       "      <td>0.000000</td>\n",
       "      <td>0.000000</td>\n",
       "      <td>...</td>\n",
       "      <td>21-801.1</td>\n",
       "      <td>Transportation Article</td>\n",
       "      <td>False</td>\n",
       "      <td>OTHER</td>\n",
       "      <td>M</td>\n",
       "      <td>ELKRIDGE</td>\n",
       "      <td>MD</td>\n",
       "      <td>MD</td>\n",
       "      <td>A - Marked Patrol</td>\n",
       "      <td>(0.0, 0.0)</td>\n",
       "    </tr>\n",
       "  </tbody>\n",
       "</table>\n",
       "<p>5 rows × 37 columns</p>\n",
       "</div>"
      ],
      "text/plain": [
       "   Unnamed: 0                                 SeqID Date Of Stop Time Of Stop  \\\n",
       "0      278508  8f3adb87-3bd3-47cd-83a3-565adc2451d5   09/24/2016     22:38:00   \n",
       "1      289430  c3cd94af-4b86-46cb-bf44-879067d9386a   12/16/2016     22:10:00   \n",
       "2      295747  5d3f53a5-cde0-468a-bad6-3f63c61d37a2   05/14/2015     09:08:00   \n",
       "3       70800  27b9c3a8-805e-45c9-810d-7742d567c5e6   10/20/2012     19:43:00   \n",
       "4      105364  1274d66f-56dc-4933-b442-1bd471e65799   11/02/2018     14:50:00   \n",
       "\n",
       "  Agency                    SubAgency  \\\n",
       "0    MCP       2nd District, Bethesda   \n",
       "1    MCP        4th District, Wheaton   \n",
       "2    MCP       2nd District, Bethesda   \n",
       "3    MCP      1st District, Rockville   \n",
       "4    MCP  3rd District, Silver Spring   \n",
       "\n",
       "                                         Description  \\\n",
       "0  DRIVING VEHICLE ON HIGHWAY WITH SUSPENDED REGI...   \n",
       "1  DRIVING VEHICLE ON HIGHWAY WITH SUSPENDED REGI...   \n",
       "2           DRIVER FAILURE TO STOP AT STOP SIGN LINE   \n",
       "3  DRIVING TO DRIVE MOTOR VEHICLE ON HIGHWAY WITH...   \n",
       "4         EXCEEDING THE POSTED SPEED LIMIT OF 40 MPH   \n",
       "\n",
       "                           Location   Latitude  Longitude  \\\n",
       "0  ROCKVILLE PIKE @ JONES BRIDGE RD  38.996395 -77.096420   \n",
       "1          ASPEN HILL @ CONNECTICUT  39.082190 -77.077323   \n",
       "2      CRYSTAL ROCK/ WATERS LANDING  39.196557 -77.273340   \n",
       "3       VEIRS MILL RD AT GRIDLEY RD   0.000000   0.000000   \n",
       "4           NEW HAMPSHIRE/ LOCKWOOD   0.000000   0.000000   \n",
       "\n",
       "               ...                   Charge                 Article  \\\n",
       "0              ...                13-401(h)  Transportation Article   \n",
       "1              ...                13-401(h)  Transportation Article   \n",
       "2              ...                21-707(a)  Transportation Article   \n",
       "3              ...                16-101(a)  Transportation Article   \n",
       "4              ...                 21-801.1  Transportation Article   \n",
       "\n",
       "  Contributed To Accident   Race Gender    Driver City Driver State DL State  \\\n",
       "0                   False  OTHER      M       BETHESDA           MD       MD   \n",
       "1                   False  WHITE      F  SILVER SPRING           MD       MD   \n",
       "2                   False  WHITE      M     GERMANTOWN           MD       MD   \n",
       "3                   False  WHITE      M   LANGLEY PARK           MD       XX   \n",
       "4                   False  OTHER      M       ELKRIDGE           MD       MD   \n",
       "\n",
       "         Arrest Type                    Geolocation  \n",
       "0  A - Marked Patrol         (38.996395, -77.09642)  \n",
       "1  A - Marked Patrol  (39.08219, -77.0773233333333)  \n",
       "2  A - Marked Patrol  (39.1965566666667, -77.27334)  \n",
       "3  A - Marked Patrol                     (0.0, 0.0)  \n",
       "4  A - Marked Patrol                     (0.0, 0.0)  \n",
       "\n",
       "[5 rows x 37 columns]"
      ]
     },
     "execution_count": 7,
     "metadata": {},
     "output_type": "execute_result"
    }
   ],
   "source": [
    "data.head()"
   ]
  },
  {
   "cell_type": "code",
   "execution_count": 8,
   "metadata": {},
   "outputs": [],
   "source": [
    "data[\"Date Of Stop\"] = pd.to_datetime(data[\"Date Of Stop\"],format=\"%m/%d/%Y\")"
   ]
  },
  {
   "cell_type": "code",
   "execution_count": 9,
   "metadata": {},
   "outputs": [
    {
     "data": {
      "text/plain": [
       "0"
      ]
     },
     "execution_count": 9,
     "metadata": {},
     "output_type": "execute_result"
    }
   ],
   "source": [
    "sum(data.duplicated(keep=False))"
   ]
  },
  {
   "cell_type": "code",
   "execution_count": 10,
   "metadata": {},
   "outputs": [],
   "source": [
    "data.drop_duplicates(inplace=True)"
   ]
  },
  {
   "cell_type": "code",
   "execution_count": 11,
   "metadata": {},
   "outputs": [
    {
     "data": {
      "text/plain": [
       "0"
      ]
     },
     "execution_count": 11,
     "metadata": {},
     "output_type": "execute_result"
    }
   ],
   "source": [
    "sum(data.duplicated(keep=False))"
   ]
  },
  {
   "cell_type": "code",
   "execution_count": 12,
   "metadata": {},
   "outputs": [],
   "source": [
    "data['Year of Violation'] = data['Date Of Stop'].dt.year"
   ]
  },
  {
   "cell_type": "markdown",
   "metadata": {},
   "source": [
    "## Let's make a line plot\n",
    "\n",
    "What will you use?\n",
    "\n",
    "Method: matplotlib.pyplot.plot() or plt.plot()\n",
    "\n",
    "https://matplotlib.org/api/_as_gen/matplotlib.pyplot.plot.html#matplotlib.pyplot.plot\n",
    "\n",
    "\n"
   ]
  },
  {
   "cell_type": "code",
   "execution_count": 13,
   "metadata": {},
   "outputs": [
    {
     "data": {
      "text/html": [
       "<div>\n",
       "<style scoped>\n",
       "    .dataframe tbody tr th:only-of-type {\n",
       "        vertical-align: middle;\n",
       "    }\n",
       "\n",
       "    .dataframe tbody tr th {\n",
       "        vertical-align: top;\n",
       "    }\n",
       "\n",
       "    .dataframe thead th {\n",
       "        text-align: right;\n",
       "    }\n",
       "</style>\n",
       "<table border=\"1\" class=\"dataframe\">\n",
       "  <thead>\n",
       "    <tr style=\"text-align: right;\">\n",
       "      <th></th>\n",
       "      <th>Year</th>\n",
       "      <th>Fruit Prod</th>\n",
       "    </tr>\n",
       "  </thead>\n",
       "  <tbody>\n",
       "    <tr>\n",
       "      <th>0</th>\n",
       "      <td>2010</td>\n",
       "      <td>500</td>\n",
       "    </tr>\n",
       "    <tr>\n",
       "      <th>1</th>\n",
       "      <td>2011</td>\n",
       "      <td>600</td>\n",
       "    </tr>\n",
       "    <tr>\n",
       "      <th>2</th>\n",
       "      <td>2012</td>\n",
       "      <td>10000</td>\n",
       "    </tr>\n",
       "    <tr>\n",
       "      <th>3</th>\n",
       "      <td>2013</td>\n",
       "      <td>1000</td>\n",
       "    </tr>\n",
       "    <tr>\n",
       "      <th>4</th>\n",
       "      <td>2015</td>\n",
       "      <td>2000</td>\n",
       "    </tr>\n",
       "    <tr>\n",
       "      <th>5</th>\n",
       "      <td>2016</td>\n",
       "      <td>5000</td>\n",
       "    </tr>\n",
       "    <tr>\n",
       "      <th>6</th>\n",
       "      <td>2017</td>\n",
       "      <td>20000</td>\n",
       "    </tr>\n",
       "    <tr>\n",
       "      <th>7</th>\n",
       "      <td>2018</td>\n",
       "      <td>500</td>\n",
       "    </tr>\n",
       "    <tr>\n",
       "      <th>8</th>\n",
       "      <td>2019</td>\n",
       "      <td>5000</td>\n",
       "    </tr>\n",
       "  </tbody>\n",
       "</table>\n",
       "</div>"
      ],
      "text/plain": [
       "   Year  Fruit Prod\n",
       "0  2010         500\n",
       "1  2011         600\n",
       "2  2012       10000\n",
       "3  2013        1000\n",
       "4  2015        2000\n",
       "5  2016        5000\n",
       "6  2017       20000\n",
       "7  2018         500\n",
       "8  2019        5000"
      ]
     },
     "execution_count": 13,
     "metadata": {},
     "output_type": "execute_result"
    }
   ],
   "source": [
    "## Sample data:\n",
    "## Fruit Production over the years\n",
    "\n",
    "year = [2010,2011,2012,2013,2015,2016,2017,2018,2019]\n",
    "fruitprod = [500,600,10000,1000,2000,5000,20000,500,5000]\n",
    "productiondf = pd.DataFrame({\"Year\":year,\"Fruit Prod\":fruitprod})\n",
    "productiondf"
   ]
  },
  {
   "cell_type": "code",
   "execution_count": 65,
   "metadata": {},
   "outputs": [],
   "source": [
    "x = productiondf[\"Year\"]\n",
    "y=productiondf[\"Fruit Prod\"]"
   ]
  },
  {
   "cell_type": "code",
   "execution_count": 66,
   "metadata": {},
   "outputs": [
    {
     "data": {
      "image/png": "[encoded data removed]",
      "text/plain": [
       "<Figure size 432x288 with 1 Axes>"
      ]
     },
     "metadata": {
      "needs_background": "light"
     },
     "output_type": "display_data"
    }
   ],
   "source": [
    "plt.plot(x,y);"
   ]
  },
  {
   "cell_type": "code",
   "execution_count": 67,
   "metadata": {},
   "outputs": [
    {
     "data": {
      "image/png": "[encoded data removed]",
      "text/plain": [
       "<Figure size 432x288 with 1 Axes>"
      ]
     },
     "metadata": {
      "needs_background": "light"
     },
     "output_type": "display_data"
    }
   ],
   "source": [
    "#Let's add some labels and titles\n",
    "plt.plot(x,y);\n",
    "plt.title(\"Fruit Production over the years\")\n",
    "plt.xlabel(\"Years\")\n",
    "plt.ylabel(\"Fruit Production\")\n",
    "plt.ylim(0,30000)\n",
    "\n",
    "for x,y in zip(x,y):\n",
    "\n",
    "    label = \"{:}\".format(y)\n",
    "\n",
    "    plt.annotate(label,# this is the text\n",
    "                 (x,y), # this is the point to label\n",
    "                 textcoords=\"offset points\", # how to position the text\n",
    "                 xytext=(0,2), # distance from text to points (x,y)\n",
    "                 ha='center') # horizontal alignment can b"
   ]
  },
  {
   "cell_type": "code",
   "execution_count": 24,
   "metadata": {},
   "outputs": [
    {
     "data": {
      "text/plain": [
       "Year of Violation\n",
       "2012    151153\n",
       "2013    190242\n",
       "2014    223497\n",
       "2015    235138\n",
       "2016    219492\n",
       "2017    198961\n",
       "2018    218022\n",
       "2019    105200\n",
       "Name: SeqID, dtype: int64"
      ]
     },
     "execution_count": 24,
     "metadata": {},
     "output_type": "execute_result"
    }
   ],
   "source": [
    "## Traffic Data: Traffic Violations over the years\n",
    "timeline = data.groupby(\"Year of Violation\")\n",
    "timelinegb =timeline[\"SeqID\"].count()\n",
    "timelinegb"
   ]
  },
  {
   "cell_type": "code",
   "execution_count": 26,
   "metadata": {},
   "outputs": [
    {
     "data": {
      "text/html": [
       "<div>\n",
       "<style scoped>\n",
       "    .dataframe tbody tr th:only-of-type {\n",
       "        vertical-align: middle;\n",
       "    }\n",
       "\n",
       "    .dataframe tbody tr th {\n",
       "        vertical-align: top;\n",
       "    }\n",
       "\n",
       "    .dataframe thead th {\n",
       "        text-align: right;\n",
       "    }\n",
       "</style>\n",
       "<table border=\"1\" class=\"dataframe\">\n",
       "  <thead>\n",
       "    <tr style=\"text-align: right;\">\n",
       "      <th></th>\n",
       "      <th>Year of Violation</th>\n",
       "      <th>Traffic Violations</th>\n",
       "    </tr>\n",
       "  </thead>\n",
       "  <tbody>\n",
       "    <tr>\n",
       "      <th>0</th>\n",
       "      <td>2012</td>\n",
       "      <td>151153</td>\n",
       "    </tr>\n",
       "    <tr>\n",
       "      <th>1</th>\n",
       "      <td>2013</td>\n",
       "      <td>190242</td>\n",
       "    </tr>\n",
       "    <tr>\n",
       "      <th>2</th>\n",
       "      <td>2014</td>\n",
       "      <td>223497</td>\n",
       "    </tr>\n",
       "    <tr>\n",
       "      <th>3</th>\n",
       "      <td>2015</td>\n",
       "      <td>235138</td>\n",
       "    </tr>\n",
       "    <tr>\n",
       "      <th>4</th>\n",
       "      <td>2016</td>\n",
       "      <td>219492</td>\n",
       "    </tr>\n",
       "    <tr>\n",
       "      <th>5</th>\n",
       "      <td>2017</td>\n",
       "      <td>198961</td>\n",
       "    </tr>\n",
       "    <tr>\n",
       "      <th>6</th>\n",
       "      <td>2018</td>\n",
       "      <td>218022</td>\n",
       "    </tr>\n",
       "    <tr>\n",
       "      <th>7</th>\n",
       "      <td>2019</td>\n",
       "      <td>105200</td>\n",
       "    </tr>\n",
       "  </tbody>\n",
       "</table>\n",
       "</div>"
      ],
      "text/plain": [
       "   Year of Violation  Traffic Violations\n",
       "0               2012              151153\n",
       "1               2013              190242\n",
       "2               2014              223497\n",
       "3               2015              235138\n",
       "4               2016              219492\n",
       "5               2017              198961\n",
       "6               2018              218022\n",
       "7               2019              105200"
      ]
     },
     "execution_count": 26,
     "metadata": {},
     "output_type": "execute_result"
    }
   ],
   "source": [
    "timelinedf=pd.DataFrame(timelinegb)\n",
    "timelinedf = timelinedf.reset_index()\n",
    "timelinedf.rename(columns={\"SeqID\":\"Traffic Violations\"},inplace=True)\n",
    "timelinedf"
   ]
  },
  {
   "cell_type": "markdown",
   "metadata": {},
   "source": [
    "## Now you try :)"
   ]
  },
  {
   "cell_type": "code",
   "execution_count": null,
   "metadata": {},
   "outputs": [],
   "source": [
    "## Identify your arguments. What is x and what is y?\n",
    "\n",
    "x = \n",
    "y = "
   ]
  },
  {
   "cell_type": "code",
   "execution_count": null,
   "metadata": {},
   "outputs": [],
   "source": [
    "## Plot the data and add labels\n",
    "\n",
    "plt.plot();\n",
    "plt.title()\n",
    "plt.xlabel()\n",
    "plt.ylabel()\n",
    "\n",
    "for x,y in zip(x,y):\n",
    "\n",
    "    label = \"{:,}\".format(y)\n",
    "\n",
    "    plt.annotate(label,# this is the text\n",
    "                 (x,y), # this is the point to label\n",
    "                 textcoords=\"offset points\", # how to position the text\n",
    "                 xytext=(0,2), # distance from text to points (x,y)\n",
    "                 ha='left') # horizontal alignment can \n",
    "plt.show()"
   ]
  },
  {
   "cell_type": "code",
   "execution_count": 158,
   "metadata": {},
   "outputs": [
    {
     "data": {
      "image/png": "[encoded data removed]",
      "text/plain": [
       "<Figure size 432x288 with 1 Axes>"
      ]
     },
     "metadata": {
      "needs_background": "light"
     },
     "output_type": "display_data"
    }
   ],
   "source": [
    "## Identify your arguments. What is x and what is y?\n",
    "\n",
    "x=timelinedf[\"Year of Violation\"]\n",
    "y=timelinedf[\"Traffic Violations\"]\n",
    "\n",
    "plt.plot(x,y,color = \"orange\",marker=\"o\")\n",
    "plt.title(\"Number of Traffic Violations from 2012 to 2019\")\n",
    "plt.xlabel(\"Year\")\n",
    "plt.ylabel(\"Number of Traffic Vilations\")\n",
    "#plt.ylim(0,240000)\n",
    "plt.grid(b=True)\n",
    "\n",
    "for x,y in zip(x,y):\n",
    "\n",
    "    label = \"{:,}\".format(y)\n",
    "\n",
    "    plt.annotate(label,# this is the text\n",
    "                 (x,y), # this is the point to label\n",
    "                 textcoords=\"offset points\", # how to position the text\n",
    "                 xytext=(0,2), # distance from text to points (x,y)\n",
    "                 ha='left') # horizontal alignment can be left, right or center\n",
    "plt.show()"
   ]
  },
  {
   "cell_type": "markdown",
   "metadata": {},
   "source": [
    "## Let's make a bar graph\n",
    "\n",
    "What will you use?\n",
    "\n",
    "Method: matplotlib.pyplot.bar(x, height, width=0.8, bottom=None, *, align='center', data=None, **kwargs)[source]\n",
    "\n",
    "https://matplotlib.org/api/_as_gen/matplotlib.pyplot.bar.html#matplotlib.pyplot.bar"
   ]
  },
  {
   "cell_type": "code",
   "execution_count": 115,
   "metadata": {},
   "outputs": [
    {
     "data": {
      "text/html": [
       "<div>\n",
       "<style scoped>\n",
       "    .dataframe tbody tr th:only-of-type {\n",
       "        vertical-align: middle;\n",
       "    }\n",
       "\n",
       "    .dataframe tbody tr th {\n",
       "        vertical-align: top;\n",
       "    }\n",
       "\n",
       "    .dataframe thead th {\n",
       "        text-align: right;\n",
       "    }\n",
       "</style>\n",
       "<table border=\"1\" class=\"dataframe\">\n",
       "  <thead>\n",
       "    <tr style=\"text-align: right;\">\n",
       "      <th></th>\n",
       "      <th>Year</th>\n",
       "      <th>Fruit Prod</th>\n",
       "      <th>Fruit_Company</th>\n",
       "    </tr>\n",
       "  </thead>\n",
       "  <tbody>\n",
       "    <tr>\n",
       "      <th>0</th>\n",
       "      <td>2010</td>\n",
       "      <td>500</td>\n",
       "      <td>Dole</td>\n",
       "    </tr>\n",
       "    <tr>\n",
       "      <th>1</th>\n",
       "      <td>2011</td>\n",
       "      <td>600</td>\n",
       "      <td>Chiquita</td>\n",
       "    </tr>\n",
       "    <tr>\n",
       "      <th>2</th>\n",
       "      <td>2012</td>\n",
       "      <td>10000</td>\n",
       "      <td>Dole</td>\n",
       "    </tr>\n",
       "    <tr>\n",
       "      <th>3</th>\n",
       "      <td>2013</td>\n",
       "      <td>1000</td>\n",
       "      <td>Chiquita</td>\n",
       "    </tr>\n",
       "    <tr>\n",
       "      <th>4</th>\n",
       "      <td>2015</td>\n",
       "      <td>2000</td>\n",
       "      <td>Dole</td>\n",
       "    </tr>\n",
       "    <tr>\n",
       "      <th>5</th>\n",
       "      <td>2016</td>\n",
       "      <td>5000</td>\n",
       "      <td>Banana</td>\n",
       "    </tr>\n",
       "    <tr>\n",
       "      <th>6</th>\n",
       "      <td>2017</td>\n",
       "      <td>20000</td>\n",
       "      <td>Banana</td>\n",
       "    </tr>\n",
       "    <tr>\n",
       "      <th>7</th>\n",
       "      <td>2018</td>\n",
       "      <td>500</td>\n",
       "      <td>Dole</td>\n",
       "    </tr>\n",
       "    <tr>\n",
       "      <th>8</th>\n",
       "      <td>2019</td>\n",
       "      <td>5000</td>\n",
       "      <td>Chiquita</td>\n",
       "    </tr>\n",
       "  </tbody>\n",
       "</table>\n",
       "</div>"
      ],
      "text/plain": [
       "   Year  Fruit Prod Fruit_Company\n",
       "0  2010         500          Dole\n",
       "1  2011         600      Chiquita\n",
       "2  2012       10000          Dole\n",
       "3  2013        1000      Chiquita\n",
       "4  2015        2000          Dole\n",
       "5  2016        5000        Banana\n",
       "6  2017       20000        Banana\n",
       "7  2018         500          Dole\n",
       "8  2019        5000      Chiquita"
      ]
     },
     "execution_count": 115,
     "metadata": {},
     "output_type": "execute_result"
    }
   ],
   "source": [
    "productiondf[\"Fruit_Company\"] = [\"Dole\",\"Chiquita\",\"Dole\",\"Chiquita\",\"Dole\",\"Banana\",\"Banana\",\"Dole\",\"Chiquita\"]\n",
    "productiondf"
   ]
  },
  {
   "cell_type": "code",
   "execution_count": 119,
   "metadata": {},
   "outputs": [],
   "source": [
    "fruit_count = productiondf.groupby(\"Fruit_Company\")\n",
    "fruit_countdf = fruit_count[\"Year\"].count()\n",
    "fruit_countdf = pd.DataFrame(fruit_countdf)\n",
    "fruit_countdf.rename(columns={\"Year\":\"Count\"},inplace = True)\n",
    "fruit_countdf.reset_index(inplace=True)"
   ]
  },
  {
   "cell_type": "code",
   "execution_count": 123,
   "metadata": {},
   "outputs": [
    {
     "data": {
      "image/png": "[encoded data removed]",
      "text/plain": [
       "<Figure size 432x288 with 1 Axes>"
      ]
     },
     "metadata": {
      "needs_background": "light"
     },
     "output_type": "display_data"
    }
   ],
   "source": [
    "x=fruit_countdf[\"Fruit_Company\"]\n",
    "y = fruit_countdf[\"Count\"]\n",
    "\n",
    "plt.bar(x,y)\n",
    "plt.title(\"Fruit Company Production Frequency\")\n",
    "plt.xlabel(\"Fruit Company\")\n",
    "plt.ylabel(\"Production Frequency\")\n",
    "\n",
    "for x,y in zip(x,y):\n",
    "\n",
    "    label = \"{:,}\".format(y)\n",
    "\n",
    "    plt.annotate(label,# this is the text\n",
    "                 (x,y), # this is the point to label\n",
    "                 textcoords=\"offset points\", # how to position the text\n",
    "                 xytext=(0,2), # distance from text to points (x,y)\n",
    "                 ha='left') # horizontal alignment can be left, right or ce"
   ]
  },
  {
   "cell_type": "markdown",
   "metadata": {},
   "source": [
    "## Easier Way\n"
   ]
  },
  {
   "cell_type": "code",
   "execution_count": 132,
   "metadata": {},
   "outputs": [
    {
     "data": {
      "image/png": "[encoded data removed]",
      "text/plain": [
       "<Figure size 432x288 with 1 Axes>"
      ]
     },
     "metadata": {
      "needs_background": "light"
     },
     "output_type": "display_data"
    }
   ],
   "source": [
    "plt.hist(productiondf[\"Fruit_Company\"]);\n",
    "plt.title(\"Fruit Company Production Frequency\")\n",
    "plt.xlabel(\"Fruit Company\")\n",
    "plt.ylabel(\"Production Frequency\")\n",
    "plt.show();"
   ]
  },
  {
   "cell_type": "markdown",
   "metadata": {},
   "source": [
    "## Now you try :)\n"
   ]
  },
  {
   "cell_type": "code",
   "execution_count": 138,
   "metadata": {},
   "outputs": [
    {
     "data": {
      "text/html": [
       "<div>\n",
       "<style scoped>\n",
       "    .dataframe tbody tr th:only-of-type {\n",
       "        vertical-align: middle;\n",
       "    }\n",
       "\n",
       "    .dataframe tbody tr th {\n",
       "        vertical-align: top;\n",
       "    }\n",
       "\n",
       "    .dataframe thead th {\n",
       "        text-align: right;\n",
       "    }\n",
       "</style>\n",
       "<table border=\"1\" class=\"dataframe\">\n",
       "  <thead>\n",
       "    <tr style=\"text-align: right;\">\n",
       "      <th></th>\n",
       "      <th>Gender</th>\n",
       "      <th>Gender_Count</th>\n",
       "    </tr>\n",
       "  </thead>\n",
       "  <tbody>\n",
       "    <tr>\n",
       "      <th>0</th>\n",
       "      <td>Female</td>\n",
       "      <td>507501</td>\n",
       "    </tr>\n",
       "    <tr>\n",
       "      <th>1</th>\n",
       "      <td>Male</td>\n",
       "      <td>1032258</td>\n",
       "    </tr>\n",
       "    <tr>\n",
       "      <th>2</th>\n",
       "      <td>Unknown</td>\n",
       "      <td>1946</td>\n",
       "    </tr>\n",
       "  </tbody>\n",
       "</table>\n",
       "</div>"
      ],
      "text/plain": [
       "    Gender  Gender_Count\n",
       "0   Female        507501\n",
       "1     Male       1032258\n",
       "2  Unknown          1946"
      ]
     },
     "execution_count": 138,
     "metadata": {},
     "output_type": "execute_result"
    }
   ],
   "source": [
    "gendergb = data.groupby(\"Gender\")\n",
    "genderdata = gendergb[\"SeqID\"].count()\n",
    "genderdf = pd.DataFrame(genderdata)\n",
    "genderdf = genderdf.reset_index()\n",
    "genderdf = genderdf.rename(columns={\"SeqID\":\"Gender_Count\"})\n",
    "genderdf = genderdf.replace({\"F\":\"Female\",\"M\":\"Male\",\"U\":\"Unknown\"})\n",
    "genderdf"
   ]
  },
  {
   "cell_type": "code",
   "execution_count": null,
   "metadata": {},
   "outputs": [],
   "source": [
    "x = \n",
    "y =\n",
    "plt.bar()\n",
    "plt.title()\n",
    "plt.xlabel()\n",
    "plt.ylabel()\n",
    "plt.show();\n",
    "\n",
    "for x,y in zip(x,y):\n",
    "\n",
    "    label = \"{:,}\".format(y)\n",
    "\n",
    "    plt.annotate(label,# this is the text\n",
    "                 (x,y), # this is the point to label\n",
    "                 textcoords=\"offset points\", # how to position the text\n",
    "                 xytext=(0,3), # distance from text to points (x,y)\n",
    "                 ha='center') # horizontal alignment can be left, right or ce\n",
    "\n",
    "\n"
   ]
  },
  {
   "cell_type": "code",
   "execution_count": 171,
   "metadata": {},
   "outputs": [
    {
     "data": {
      "image/png": "[encoded data removed]",
      "text/plain": [
       "<Figure size 432x288 with 1 Axes>"
      ]
     },
     "metadata": {
      "needs_background": "light"
     },
     "output_type": "display_data"
    }
   ],
   "source": [
    "x=genderdf[\"Gender\"]\n",
    "y=genderdf[\"Gender_Count\"]\n",
    "\n",
    "plt.bar(x,y,color = \"red\",width = .50,align = \"edge\")\n",
    "plt.title(\"Gender Count for Traffic Violations\")\n",
    "plt.xlabel(\"Gender\")\n",
    "plt.ylabel(\"Number of Traffic Violations\")\n",
    "plt.xticks()\n",
    "\n",
    "for x,y in zip(x,y):\n",
    "\n",
    "    label = \"{:,}\".format(y)\n",
    "\n",
    "    plt.annotate(label,# this is the text\n",
    "                 (x,y), # this is the point to label\n",
    "                 textcoords=\"offset points\", # how to position the text\n",
    "                 xytext=(0,3), # distance from text to points (x,y)\n",
    "                 ha='left') # horizontal alignment can be left, right or center\n",
    "\n",
    "\n"
   ]
  },
  {
   "cell_type": "markdown",
   "metadata": {},
   "source": [
    "## Let's make a Pie Chart\n",
    "\n",
    "What we will use?\n",
    "\n",
    "Method:matplotlib.pyplot.pie(x, explode=None, labels=None, colors=None, autopct=None, pctdistance=0.6, shadow=False, labeldistance=1.1, startangle=None, radius=None, counterclock=True, wedgeprops=None, textprops=None, center=(0, 0), frame=False, rotatelabels=False, *, data=None)[source]\n",
    "\n",
    "https://matplotlib.org/api/_as_gen/matplotlib.axes.Axes.pie.html#matplotlib.axes.Axes.pie"
   ]
  },
  {
   "cell_type": "code",
   "execution_count": 180,
   "metadata": {},
   "outputs": [
    {
     "data": {
      "image/png": "[encoded data removed]",
      "text/plain": [
       "<Figure size 432x288 with 1 Axes>"
      ]
     },
     "metadata": {},
     "output_type": "display_data"
    }
   ],
   "source": [
    "labels = productiondf[\"Fruit_Company\"].unique()\n",
    "data = productiondf[\"Fruit_Company\"].value_counts()\n",
    "\n",
    "plt.pie(data,labels=labels,autopct=\"%.1f%%\")\n",
    "plt.show()"
   ]
  },
  {
   "cell_type": "code",
   "execution_count": 190,
   "metadata": {},
   "outputs": [
    {
     "data": {
      "text/html": [
       "<div>\n",
       "<style scoped>\n",
       "    .dataframe tbody tr th:only-of-type {\n",
       "        vertical-align: middle;\n",
       "    }\n",
       "\n",
       "    .dataframe tbody tr th {\n",
       "        vertical-align: top;\n",
       "    }\n",
       "\n",
       "    .dataframe thead th {\n",
       "        text-align: right;\n",
       "    }\n",
       "</style>\n",
       "<table border=\"1\" class=\"dataframe\">\n",
       "  <thead>\n",
       "    <tr style=\"text-align: right;\">\n",
       "      <th></th>\n",
       "      <th>Race</th>\n",
       "      <th>Race_Count</th>\n",
       "    </tr>\n",
       "  </thead>\n",
       "  <tbody>\n",
       "    <tr>\n",
       "      <th>0</th>\n",
       "      <td>ASIAN</td>\n",
       "      <td>90432</td>\n",
       "    </tr>\n",
       "    <tr>\n",
       "      <th>1</th>\n",
       "      <td>BLACK</td>\n",
       "      <td>488074</td>\n",
       "    </tr>\n",
       "    <tr>\n",
       "      <th>2</th>\n",
       "      <td>HISPANIC</td>\n",
       "      <td>329371</td>\n",
       "    </tr>\n",
       "    <tr>\n",
       "      <th>3</th>\n",
       "      <td>NATIVE AMERICAN</td>\n",
       "      <td>3181</td>\n",
       "    </tr>\n",
       "    <tr>\n",
       "      <th>4</th>\n",
       "      <td>OTHER</td>\n",
       "      <td>84344</td>\n",
       "    </tr>\n",
       "    <tr>\n",
       "      <th>5</th>\n",
       "      <td>WHITE</td>\n",
       "      <td>546303</td>\n",
       "    </tr>\n",
       "  </tbody>\n",
       "</table>\n",
       "</div>"
      ],
      "text/plain": [
       "              Race  Race_Count\n",
       "0            ASIAN       90432\n",
       "1            BLACK      488074\n",
       "2         HISPANIC      329371\n",
       "3  NATIVE AMERICAN        3181\n",
       "4            OTHER       84344\n",
       "5            WHITE      546303"
      ]
     },
     "execution_count": 190,
     "metadata": {},
     "output_type": "execute_result"
    }
   ],
   "source": [
    "racegb = data.groupby(\"Race\")\n",
    "racedata = racegb[\"SeqID\"].count()\n",
    "racedf = pd.DataFrame(racedata).rename(columns = {\"SeqID\": \"Race_Count\"})\n",
    "racedf.reset_index(inplace=True)\n",
    "racedf"
   ]
  },
  {
   "cell_type": "code",
   "execution_count": null,
   "metadata": {},
   "outputs": [],
   "source": [
    "labels =\n",
    "data = \n",
    "plt.pie()\n",
    "plt.title()\n",
    "plt.show();"
   ]
  },
  {
   "cell_type": "code",
   "execution_count": 254,
   "metadata": {},
   "outputs": [
    {
     "data": {
      "image/png": "[encoded data removed]",
      "text/plain": [
       "<Figure size 432x288 with 1 Axes>"
      ]
     },
     "metadata": {},
     "output_type": "display_data"
    }
   ],
   "source": [
    "labels = racedf[\"Race\"]\n",
    "data = racedf[\"Race_Count\"]\n",
    "plt.pie(data,labels=labels,autopct=\"%.1f%%\",explode = [0,0,0,1,0,0])\n",
    "plt.title(\"Pie Chart of the Race Distribution for Traffic Violations\")\n",
    "plt.axis('equal') \n",
    "plt.legend(loc = \"upper left\")\n",
    "plt.show()"
   ]
  },
  {
   "cell_type": "code",
   "execution_count": null,
   "metadata": {},
   "outputs": [],
   "source": []
  }
 ],
 "metadata": {
  "kernelspec": {
   "display_name": "Python 3",
   "language": "python",
   "name": "python3"
  },
  "language_info": {
   "codemirror_mode": {
    "name": "ipython",
    "version": 3
   },
   "file_extension": ".py",
   "mimetype": "text/x-python",
   "name": "python",
   "nbconvert_exporter": "python",
   "pygments_lexer": "ipython3",
   "version": "3.7.0"
  }
 },
 "nbformat": 4,
 "nbformat_minor": 2
}
