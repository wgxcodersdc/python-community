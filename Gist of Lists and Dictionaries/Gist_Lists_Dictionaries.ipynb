{
  "nbformat": 4,
  "nbformat_minor": 0,
  "metadata": {
    "colab": {
      "name": "Copy of Untitled0.ipynb",
      "provenance": [],
      "collapsed_sections": []
    },
    "kernelspec": {
      "name": "python3",
      "display_name": "Python 3"
    }
  },
  "cells": [
    {
      "cell_type": "markdown",
      "metadata": {
        "id": "2k2CR6aGQQhQ",
        "colab_type": "text"
      },
      "source": [
        "**Lists**\n",
        "\n",
        "List is a most versatile datatype available in Python. Important thing \n",
        "about a list is that items in a list need not be of the same type. A list is a collection which is ordered and changeable.\n"
      ]
    },
    {
      "cell_type": "code",
      "metadata": {
        "id": "DyQqGAUCQWs4",
        "colab_type": "code",
        "outputId": "86e10547-73d1-4d15-92ee-c74579b61921",
        "colab": {
          "base_uri": "https://localhost:8080/",
          "height": 34
        }
      },
      "source": [
        "examplelist = [\"apple\", \"banana\", \"cherry\"]\n",
        "print(examplelist)"
      ],
      "execution_count": 0,
      "outputs": [
        {
          "output_type": "stream",
          "text": [
            "['apple', 'banana', 'cherry']\n"
          ],
          "name": "stdout"
        }
      ]
    },
    {
      "cell_type": "markdown",
      "metadata": {
        "id": "Uk9CNPsJSWoQ",
        "colab_type": "text"
      },
      "source": [
        " **Simplest List** \n",
        " \n",
        "In Python lists are written with square brackets. Below is an example to create an empty list. (simplest form of list)"
      ]
    },
    {
      "cell_type": "code",
      "metadata": {
        "id": "fUFXgA_oSvdQ",
        "colab_type": "code",
        "outputId": "1ba8dd99-878a-4478-a192-a53ebae5adbe",
        "colab": {
          "base_uri": "https://localhost:8080/",
          "height": 34
        }
      },
      "source": [
        "samplelist = []\n",
        "print(samplelist)"
      ],
      "execution_count": 0,
      "outputs": [
        {
          "output_type": "stream",
          "text": [
            "[]\n"
          ],
          "name": "stdout"
        }
      ]
    },
    {
      "cell_type": "markdown",
      "metadata": {
        "id": "08BroHleMF-G",
        "colab_type": "text"
      },
      "source": [
        "Excercise 1: Create an empty list with name \"excercise_list\""
      ]
    },
    {
      "cell_type": "code",
      "metadata": {
        "id": "OWWGXCCGvxxPJ",
        "colab_type": "code",
        "cellView": "form",
        "colab": {}
      },
      "source": [
        "#@title Answer\n",
        "excercise_list = []\n",
        "print(excercise_list)"
      ],
      "execution_count": 0,
      "outputs": []
    },
    {
      "cell_type": "markdown",
      "metadata": {
        "id": "Z7U9NrJZLdtH",
        "colab_type": "text"
      },
      "source": [
        "**Numeric List**\n",
        "\n",
        "Example to create list with single number"
      ]
    },
    {
      "cell_type": "code",
      "metadata": {
        "id": "wSCzpyT9S-9O",
        "colab_type": "code",
        "colab": {}
      },
      "source": [
        "samplelist = [5]\n",
        "print(samplelist)"
      ],
      "execution_count": 0,
      "outputs": []
    },
    {
      "cell_type": "markdown",
      "metadata": {
        "id": "EtT_k_8rNBub",
        "colab_type": "text"
      },
      "source": [
        "Excercise 2: Create a list with name \"excercise_list\" with value 9"
      ]
    },
    {
      "cell_type": "code",
      "metadata": {
        "id": "csfsqkylyCLM",
        "colab_type": "code",
        "cellView": "form",
        "colab": {}
      },
      "source": [
        "#@title Answer\n",
        "excercise_list = [5]\n",
        "print(excercise_list)"
      ],
      "execution_count": 0,
      "outputs": []
    },
    {
      "cell_type": "markdown",
      "metadata": {
        "id": "kZLl-ipQT6aE",
        "colab_type": "text"
      },
      "source": [
        "Lists can be written as a list of comma-separated values (items) between square brackets."
      ]
    },
    {
      "cell_type": "markdown",
      "metadata": {
        "id": "i9SvRc-qUCGE",
        "colab_type": "text"
      },
      "source": [
        "Example to create list with multiple numbers, can also be called list of numbers\n"
      ]
    },
    {
      "cell_type": "code",
      "metadata": {
        "id": "WjXk3-OETYDU",
        "colab_type": "code",
        "colab": {}
      },
      "source": [
        "samplelist = [1,2,3,4,5]\n",
        "print(samplelist)"
      ],
      "execution_count": 0,
      "outputs": []
    },
    {
      "cell_type": "markdown",
      "metadata": {
        "id": "aUIHuqeAMYkY",
        "colab_type": "text"
      },
      "source": [
        "Excercise 3: Create a list with name \"excercise_list\" with values 7,8,9"
      ]
    },
    {
      "cell_type": "code",
      "metadata": {
        "id": "WSVJ7KkXyNn3",
        "colab_type": "code",
        "cellView": "form",
        "colab": {}
      },
      "source": [
        "#@title Answer\n",
        "excercise_list = [1,2,3,4,5]\n",
        "print(excercise_list)"
      ],
      "execution_count": 0,
      "outputs": []
    },
    {
      "cell_type": "markdown",
      "metadata": {
        "id": "yju4UATATFer",
        "colab_type": "text"
      },
      "source": [
        "**Character Lists**\n",
        "\n",
        "Example to create list with a single string:\n"
      ]
    },
    {
      "cell_type": "code",
      "metadata": {
        "id": "pRLcHeTtTH4s",
        "colab_type": "code",
        "colab": {}
      },
      "source": [
        "samplelist = [\"Hello\"]\n",
        "print(samplelist)"
      ],
      "execution_count": 0,
      "outputs": []
    },
    {
      "cell_type": "markdown",
      "metadata": {
        "id": "0qzOP8fqMlok",
        "colab_type": "text"
      },
      "source": [
        "Excercise 4: Create a list with name \"excercise_list\" with value as \"Welcome to WGXC DC DC Lab\""
      ]
    },
    {
      "cell_type": "code",
      "metadata": {
        "id": "VjFJkpjVybly",
        "colab_type": "code",
        "cellView": "form",
        "colab": {}
      },
      "source": [
        "#@title Answer\n",
        "excercise_list = [\"Welcome to WGXC DC DC Lab\"]\n",
        "print(excercise_list)"
      ],
      "execution_count": 0,
      "outputs": []
    },
    {
      "cell_type": "markdown",
      "metadata": {
        "id": "G3tZZPzqTeTq",
        "colab_type": "text"
      },
      "source": [
        "Example to create list with multiple strings, can also be called list of strings:\n"
      ]
    },
    {
      "cell_type": "code",
      "metadata": {
        "id": "ae7986AzTl1-",
        "colab_type": "code",
        "colab": {}
      },
      "source": [
        "samplelist = [\"Hi\", \"Hey\", \"Hello\"]\n",
        "print(samplelist)"
      ],
      "execution_count": 0,
      "outputs": []
    },
    {
      "cell_type": "markdown",
      "metadata": {
        "id": "MmJ_HNRtMxGZ",
        "colab_type": "text"
      },
      "source": [
        "Excercise 5: Create a list with name \"excercise_list\" with value Welcome, to,WGXC DC DC, Lab, Session"
      ]
    },
    {
      "cell_type": "code",
      "metadata": {
        "id": "3ev6NF3GypTK",
        "colab_type": "code",
        "cellView": "form",
        "colab": {}
      },
      "source": [
        "#@title Answer\n",
        "excercise_list = [\"Welcome\", \"to\", \"WGXC DC DC\", \"Lab\", \"Session\"]\n",
        "print(excercise_list)"
      ],
      "execution_count": 0,
      "outputs": []
    },
    {
      "cell_type": "markdown",
      "metadata": {
        "id": "1RM_vs4GUUDF",
        "colab_type": "text"
      },
      "source": [
        "Lists can contain elements of different datatypes. For example, a list can contain combination of numbers and strings.\n"
      ]
    },
    {
      "cell_type": "code",
      "metadata": {
        "id": "funEaBMcUndx",
        "colab_type": "code",
        "colab": {}
      },
      "source": [
        "samplelist = [1, \"Hi\", 2, 3, \"Hey\", 4 , 5, 6, \"Hello\", 7, 10]\n",
        "print(samplelist)"
      ],
      "execution_count": 0,
      "outputs": []
    },
    {
      "cell_type": "markdown",
      "metadata": {
        "id": "AvlEW_X7NOks",
        "colab_type": "text"
      },
      "source": [
        "Excercise 6: Create a list with name \"excercise_list\" with value as 1, Welcome to, 3, WGXC DC, 7, DC, 8 Lab\""
      ]
    },
    {
      "cell_type": "code",
      "metadata": {
        "id": "mps7rEAQy8iF",
        "colab_type": "code",
        "cellView": "form",
        "colab": {}
      },
      "source": [
        "#@title Answer\n",
        "excercise_list = [1, \"Welcome to\", 3, \"WGXC DC\", 7, \"DC\", 8, \"Lab\"]\n",
        "print(excercise_list)"
      ],
      "execution_count": 0,
      "outputs": []
    },
    {
      "cell_type": "markdown",
      "metadata": {
        "id": "EFXVckkyU9N2",
        "colab_type": "text"
      },
      "source": [
        "**Multi-Dimensional List:**\n",
        "\n",
        "List can be a combination of lists"
      ]
    },
    {
      "cell_type": "code",
      "metadata": {
        "id": "kxeUint4U78d",
        "colab_type": "code",
        "outputId": "11808e84-2389-4cb8-e81a-d00d3b7e7858",
        "colab": {
          "base_uri": "https://localhost:8080/",
          "height": 34
        }
      },
      "source": [
        "samplelist = [[\"Hi\", \"Hey\", \"Hello\"], [1,2,3,4,5], [1, \"Hi\", 2, 3, \"Hey\", 4 , 5, 6, \"Hello\", 7, 10]]\n",
        "print(samplelist)"
      ],
      "execution_count": 0,
      "outputs": [
        {
          "output_type": "stream",
          "text": [
            "[['Hi', 'Hey', 'Hello'], [1, 2, 3, 4, 5], [1, 'Hi', 2, 3, 'Hey', 4, 5, 6, 'Hello', 7, 10]]\n"
          ],
          "name": "stdout"
        }
      ]
    },
    {
      "cell_type": "markdown",
      "metadata": {
        "id": "t0yO4XhYNh4E",
        "colab_type": "text"
      },
      "source": [
        "Excercise 7: Create a list which is a list of colors, list of seasons, list of dress types"
      ]
    },
    {
      "cell_type": "code",
      "metadata": {
        "id": "fniVcp045A_a",
        "colab_type": "code",
        "cellView": "form",
        "colab": {}
      },
      "source": [
        "#@title Answer\n",
        "excercise_list = [[\"Voilet\", \"Blue\", \"Orange\"], [\"spring\", \"summer\", \"Fall\", \"Winter\"], [\"Skirt\", \"Pants\", \"Crop tops\", \"Leggings\", \"Jeans\"]]\n",
        "print(excercise_list)"
      ],
      "execution_count": 0,
      "outputs": []
    },
    {
      "cell_type": "markdown",
      "metadata": {
        "id": "bcbdmcSXQumr",
        "colab_type": "text"
      },
      "source": [
        "**Accessing elements from the List**\n",
        "\n",
        "Similar to an array, you access the list items by referring to the index number. Use the index operator [ ] to access an item in a list.The index must be an integer.\n"
      ]
    },
    {
      "cell_type": "code",
      "metadata": {
        "id": "6X5nzcSFQ1NI",
        "colab_type": "code",
        "outputId": "f9d2bd6c-4eb4-4f9c-e435-a49de1ff98fb",
        "colab": {
          "base_uri": "https://localhost:8080/",
          "height": 34
        }
      },
      "source": [
        "examplelist = [\"apple\", \"banana\", \"cherry\"]\n",
        "print(examplelist[1])"
      ],
      "execution_count": 0,
      "outputs": [
        {
          "output_type": "stream",
          "text": [
            "banana\n"
          ],
          "name": "stdout"
        }
      ]
    },
    {
      "cell_type": "markdown",
      "metadata": {
        "id": "8LhsU7IsN5YT",
        "colab_type": "text"
      },
      "source": [
        "Excercise 8: Extract 3rd element of the list"
      ]
    },
    {
      "cell_type": "code",
      "metadata": {
        "id": "DzpGx0pD5hFz",
        "colab_type": "code",
        "cellView": "form",
        "colab": {}
      },
      "source": [
        "#@title Answer\n",
        "examplelist = [\"apple\", \"banana\", \"cherry\"]\n",
        "print(examplelist[3])"
      ],
      "execution_count": 0,
      "outputs": []
    },
    {
      "cell_type": "markdown",
      "metadata": {
        "id": "QMC1cg4qQ9eH",
        "colab_type": "text"
      },
      "source": [
        "# **Negative Indexing:**\n",
        "Negative indexing means beginning from the end, -1 refers to the last item, -2 refers to the second last item etc.\n",
        "\n"
      ]
    },
    {
      "cell_type": "code",
      "metadata": {
        "id": "0yI23Mt5RRl7",
        "colab_type": "code",
        "outputId": "be9d0d99-e0c2-4921-c03a-fd2304dc89e5",
        "colab": {
          "base_uri": "https://localhost:8080/",
          "height": 34
        }
      },
      "source": [
        "thislist = [\"apple\", \"banana\", \"cherry\"]\n",
        "print(thislist[-1])"
      ],
      "execution_count": 0,
      "outputs": [
        {
          "output_type": "stream",
          "text": [
            "cherry\n"
          ],
          "name": "stdout"
        }
      ]
    },
    {
      "cell_type": "markdown",
      "metadata": {
        "id": "_oN-EJVZOBtL",
        "colab_type": "text"
      },
      "source": [
        "Excercise 9: Extract 1st element of the list using negative index\n"
      ]
    },
    {
      "cell_type": "code",
      "metadata": {
        "id": "6aTHJkwq5vxW",
        "colab_type": "code",
        "cellView": "both",
        "colab": {
          "base_uri": "https://localhost:8080/",
          "height": 34
        },
        "outputId": "94794a84-2724-4f8b-95fd-afedbdb86f0e"
      },
      "source": [
        "#@title Answer\n",
        "thislist = [\"apple\", \"banana\", \"cherry\"]\n",
        "print(thislist[-3])"
      ],
      "execution_count": 1,
      "outputs": [
        {
          "output_type": "stream",
          "text": [
            "apple\n"
          ],
          "name": "stdout"
        }
      ]
    },
    {
      "cell_type": "markdown",
      "metadata": {
        "id": "c80ppX-yWM9r",
        "colab_type": "text"
      },
      "source": [
        "**Adding elements to an existing list**\n",
        "\n",
        "Elements can be added to the List by using built-in append() function. Only one element at a time can be added to the list by using append() method, for addition of multiple elements with the append() method, loops are used."
      ]
    },
    {
      "cell_type": "code",
      "metadata": {
        "id": "GzlXr6mOWakS",
        "colab_type": "code",
        "colab": {}
      },
      "source": [
        "samplelist = [\"Hi\"]\n",
        "print(samplelist)\n",
        "samplelist.append(1)\n",
        "print(samplelist)\n",
        "samplelist.append(\"this is python lab\")\n",
        "print(samplelist)\n"
      ],
      "execution_count": 0,
      "outputs": []
    },
    {
      "cell_type": "markdown",
      "metadata": {
        "id": "Hr086IbPw6Wr",
        "colab_type": "text"
      },
      "source": [
        "Excercise 10: Add number 5 to the list"
      ]
    },
    {
      "cell_type": "code",
      "metadata": {
        "id": "YED6dWqIw9LL",
        "colab_type": "code",
        "cellView": "form",
        "colab": {}
      },
      "source": [
        "#@title Answer\n",
        "samplelist = ['Hi', 1, 'this is python lab']\n",
        "print(samplelist)\n",
        "samplelist.append(5)\n",
        "print(samplelist)"
      ],
      "execution_count": 0,
      "outputs": []
    },
    {
      "cell_type": "markdown",
      "metadata": {
        "id": "LTB-YqNwvnwC",
        "colab_type": "text"
      },
      "source": [
        "**List Slicing**\n",
        "\n",
        "Slicing is used to build a new list out of an existing list"
      ]
    },
    {
      "cell_type": "code",
      "metadata": {
        "id": "On7aTqcPwdpM",
        "colab_type": "code",
        "colab": {}
      },
      "source": [
        "samplelist = [1, 2, 3, 4, 5, 6, 7, 8]\n",
        "print(samplelist)\n",
        "new_list = samplelist[2:6]\n",
        "print(new_list)\n"
      ],
      "execution_count": 0,
      "outputs": []
    },
    {
      "cell_type": "markdown",
      "metadata": {
        "id": "fa05r9HjOOEo",
        "colab_type": "text"
      },
      "source": [
        "Excercise 11: Print sub-list of above list from elements 3 to 5"
      ]
    },
    {
      "cell_type": "code",
      "metadata": {
        "id": "Lz4Y3VUX6Kgm",
        "colab_type": "code",
        "cellView": "both",
        "colab": {
          "base_uri": "https://localhost:8080/",
          "height": 51
        },
        "outputId": "ce198b8c-2b55-4e15-915b-7943ec8e4a86"
      },
      "source": [
        "#@title Answer\n",
        "samplelist = [1, 2, 3, 4, 5, 6, 7, 8]\n",
        "print(samplelist)\n",
        "new_list = samplelist[2:5]\n",
        "print(new_list)"
      ],
      "execution_count": 2,
      "outputs": [
        {
          "output_type": "stream",
          "text": [
            "[1, 2, 3, 4, 5, 6, 7, 8]\n",
            "[4, 5]\n"
          ],
          "name": "stdout"
        }
      ]
    },
    {
      "cell_type": "markdown",
      "metadata": {
        "id": "niPTxzSsE5u6",
        "colab_type": "text"
      },
      "source": [
        "**Dictionaries**\n",
        "\n",
        "A dictionary is a collection which is unordered, changeable and indexed. In Python dictionaries are written with curly brackets, and they have keys and values.\n",
        "\n"
      ]
    },
    {
      "cell_type": "markdown",
      "metadata": {
        "id": "txsiTzd_FOev",
        "colab_type": "text"
      },
      "source": [
        "This is how we create empty dictionary"
      ]
    },
    {
      "cell_type": "code",
      "metadata": {
        "id": "g7o8ZQPuFUpQ",
        "colab_type": "code",
        "colab": {}
      },
      "source": [
        "sample_dict = {}"
      ],
      "execution_count": 0,
      "outputs": []
    },
    {
      "cell_type": "markdown",
      "metadata": {
        "id": "aef5wr8nFbxo",
        "colab_type": "text"
      },
      "source": [
        "Dictionaries are written in key, value pairs"
      ]
    },
    {
      "cell_type": "code",
      "metadata": {
        "id": "HZvRVDQIFlta",
        "colab_type": "code",
        "colab": {}
      },
      "source": [
        "sample_dict = {\n",
        "    <key>: <value>,\n",
        "    <key>: <value>,\n",
        "      .\n",
        "      .\n",
        "      .\n",
        "    <key>: <value>\n",
        "}"
      ],
      "execution_count": 0,
      "outputs": []
    },
    {
      "cell_type": "markdown",
      "metadata": {
        "id": "2aSACnuKF3GL",
        "colab_type": "text"
      },
      "source": [
        "Dictionary with Integer *Keys*"
      ]
    },
    {
      "cell_type": "code",
      "metadata": {
        "id": "dhrKjB8VIB2K",
        "colab_type": "code",
        "colab": {}
      },
      "source": [
        "sample_dict = {1: 'python', 2: 'for', 3: 'everyone'} \n",
        "print(sample_dict) "
      ],
      "execution_count": 0,
      "outputs": []
    },
    {
      "cell_type": "markdown",
      "metadata": {
        "id": "8MoiXGD7OZVw",
        "colab_type": "text"
      },
      "source": [
        "Excercise 12: Create a dictionary with color as key and black as value\n"
      ]
    },
    {
      "cell_type": "code",
      "metadata": {
        "id": "mWp18ZAc6f6M",
        "colab_type": "code",
        "cellView": "form",
        "colab": {}
      },
      "source": [
        "#@title Answer\n",
        "excercise_dict = {'color': 'black'} \n",
        "print(excercise_dict) "
      ],
      "execution_count": 0,
      "outputs": []
    },
    {
      "cell_type": "markdown",
      "metadata": {
        "id": "vLp-jmV0ILTt",
        "colab_type": "text"
      },
      "source": [
        "Dictionary with Mixed keys"
      ]
    },
    {
      "cell_type": "code",
      "metadata": {
        "id": "YSyPpyoaIOFB",
        "colab_type": "code",
        "colab": {}
      },
      "source": [
        "sample_dict = {'Name': 'python', 1: [1, 2, 3, 4]} \n",
        "print(sample_dict) "
      ],
      "execution_count": 0,
      "outputs": []
    },
    {
      "cell_type": "markdown",
      "metadata": {
        "id": "ZLM8hrtAO1oy",
        "colab_type": "text"
      },
      "source": [
        "Excercise 13: Create a dictionary with color as key and black as value, and number 2 as key and list 4,5,6 as value\n"
      ]
    },
    {
      "cell_type": "code",
      "metadata": {
        "id": "uf9Oj2Q66wR_",
        "colab_type": "code",
        "cellView": "form",
        "colab": {}
      },
      "source": [
        "#@title Answer\n",
        "excercise_dict = {'color': 'black', 2: [4,5,6]} \n",
        "print(excercise_dict) "
      ],
      "execution_count": 0,
      "outputs": []
    },
    {
      "cell_type": "markdown",
      "metadata": {
        "id": "C3ydHMs0QGsv",
        "colab_type": "text"
      },
      "source": [
        "**Add a value to the dictionary**\n"
      ]
    },
    {
      "cell_type": "code",
      "metadata": {
        "id": "Gt2IvX1IQKOZ",
        "colab_type": "code",
        "colab": {}
      },
      "source": [
        "sample_dict = {1: 'hi', 2: 'hello'}\n",
        "sample_dict[3] = \"hey\"\n",
        "print(sample_dict) "
      ],
      "execution_count": 0,
      "outputs": []
    },
    {
      "cell_type": "markdown",
      "metadata": {
        "id": "owakKWK-JUmQ",
        "colab_type": "text"
      },
      "source": [
        "Adding set of values to a single Key"
      ]
    },
    {
      "cell_type": "code",
      "metadata": {
        "id": "zzsXySl2JXWD",
        "colab_type": "code",
        "colab": {}
      },
      "source": [
        "sample_dict = {1: 'hi'}\n",
        "sample_dict[2] = 1,2,3,4,5\n",
        "print(sample_dict)\n"
      ],
      "execution_count": 0,
      "outputs": []
    },
    {
      "cell_type": "markdown",
      "metadata": {
        "id": "wqZeQVMwPGA8",
        "colab_type": "text"
      },
      "source": [
        "Excercise 14: Insert \"up for the party?\" as key and \"yes\" as value to sample_dict dictionary"
      ]
    },
    {
      "cell_type": "code",
      "metadata": {
        "id": "BY_yM-Xe7AdE",
        "colab_type": "code",
        "cellView": "form",
        "colab": {}
      },
      "source": [
        "#@title Answer\n",
        "sample_dict = {1: 'hi', 2: (1, 2, 3, 4, 5)}\n",
        "sample_dict['up for the party?'] = \"yes\"\n",
        "print(sample_dict)"
      ],
      "execution_count": 0,
      "outputs": []
    },
    {
      "cell_type": "markdown",
      "metadata": {
        "id": "RTTeysKpJrFl",
        "colab_type": "text"
      },
      "source": [
        "Updating existing Key's Value"
      ]
    },
    {
      "cell_type": "code",
      "metadata": {
        "id": "REGLq_2KJsUE",
        "colab_type": "code",
        "colab": {}
      },
      "source": [
        "sample_dict = {1: 'hi', 2: 'hello'}\n",
        "sample_dict[2] = \"hey\"\n",
        "print(sample_dict)"
      ],
      "execution_count": 0,
      "outputs": []
    },
    {
      "cell_type": "markdown",
      "metadata": {
        "id": "CXlAiR1VPenu",
        "colab_type": "text"
      },
      "source": [
        "Excercise 15: Update value of 1 to welcome.\n"
      ]
    },
    {
      "cell_type": "code",
      "metadata": {
        "id": "i0yFca0_KwOv",
        "colab_type": "code",
        "cellView": "form",
        "colab": {}
      },
      "source": [
        "#@title Answer\n",
        "sample_dict = {1: 'hi', 2: 'hello'}\n",
        "sample_dict[1] = \"welcome\"\n",
        "print(sample_dict)"
      ],
      "execution_count": 0,
      "outputs": []
    },
    {
      "cell_type": "markdown",
      "metadata": {
        "id": "RtZBMNCrKF6x",
        "colab_type": "text"
      },
      "source": [
        "Accessing a element using get() method "
      ]
    },
    {
      "cell_type": "code",
      "metadata": {
        "id": "5RZLZd8-KIio",
        "colab_type": "code",
        "colab": {}
      },
      "source": [
        "sample_dict = {1: 'hi', 2: 'hello'}\n",
        "print(sample_dict.get(2)) "
      ],
      "execution_count": 0,
      "outputs": []
    },
    {
      "cell_type": "markdown",
      "metadata": {
        "id": "GGGTYkonPpsK",
        "colab_type": "text"
      },
      "source": [
        "Excercise 16: Get the value of 1 in sample_dict dictionary\n"
      ]
    },
    {
      "cell_type": "code",
      "metadata": {
        "id": "i5h5lPWPK8PU",
        "colab_type": "code",
        "cellView": "form",
        "colab": {}
      },
      "source": [
        "#@title Answer\n",
        "sample_dict = {1: 'hi', 2: 'hello'}\n",
        "print(sample_dict.get(1)) "
      ],
      "execution_count": 0,
      "outputs": []
    },
    {
      "cell_type": "markdown",
      "metadata": {
        "id": "dB-x28arIfdg",
        "colab_type": "text"
      },
      "source": [
        "**Nested Dictionary**\n",
        "\n"
      ]
    },
    {
      "cell_type": "code",
      "metadata": {
        "id": "MPF0AWXhIoN7",
        "colab_type": "code",
        "colab": {}
      },
      "source": [
        "sample_dict = {1: 'hi', 2: 'hello', 3:{'A' : 'Welcome', 'B' : 'To', 'C' : 'Python'}} \n",
        "print(sample_dict) "
      ],
      "execution_count": 0,
      "outputs": []
    },
    {
      "cell_type": "markdown",
      "metadata": {
        "id": "vv5rBAS3KbVx",
        "colab_type": "text"
      },
      "source": [
        "**Remove a key and it's value**"
      ]
    },
    {
      "cell_type": "markdown",
      "metadata": {
        "id": "DZ6rLJhpLDZO",
        "colab_type": "text"
      },
      "source": [
        "Using **del** method"
      ]
    },
    {
      "cell_type": "code",
      "metadata": {
        "id": "09S92NOiKfSs",
        "colab_type": "code",
        "colab": {}
      },
      "source": [
        "sample_dict = {1: 'hi', 2: 'hello', 3: 'hey'}\n",
        "print(sample_dict) \n",
        "del sample_dict[1]\n",
        "print(sample_dict) "
      ],
      "execution_count": 0,
      "outputs": []
    },
    {
      "cell_type": "markdown",
      "metadata": {
        "id": "XU3K8YLQQgOO",
        "colab_type": "text"
      },
      "source": [
        "Excercise 17: Remove key 3 in sample_dict dictionary using del method\n"
      ]
    },
    {
      "cell_type": "code",
      "metadata": {
        "id": "-2f6bifHLE6C",
        "colab_type": "code",
        "cellView": "form",
        "colab": {}
      },
      "source": [
        "#@title Answer\n",
        "sample_dict = {1: 'hi', 2: 'hello', 3: 'hey'}\n",
        "print(sample_dict) \n",
        "del sample_dict[3]\n",
        "print(sample_dict) "
      ],
      "execution_count": 0,
      "outputs": []
    },
    {
      "cell_type": "markdown",
      "metadata": {
        "id": "_znn92FGLOh8",
        "colab_type": "text"
      },
      "source": [
        "Using **pop()** method"
      ]
    },
    {
      "cell_type": "code",
      "metadata": {
        "id": "GsgXYKK7LUVJ",
        "colab_type": "code",
        "colab": {}
      },
      "source": [
        "sample_dict = {1: 'hi', 2: 'hello', 3: 'hey'}\n",
        "print(sample_dict) \n",
        "sample_dict.pop(2) \n",
        "print(sample_dict) "
      ],
      "execution_count": 0,
      "outputs": []
    },
    {
      "cell_type": "markdown",
      "metadata": {
        "id": "vBXkPxXiQqal",
        "colab_type": "text"
      },
      "source": [
        "Excercise 18: Remove key 3 in sample_dict dictionary using pop() method\n"
      ]
    },
    {
      "cell_type": "code",
      "metadata": {
        "id": "x3Hwhba6LPHf",
        "colab_type": "code",
        "cellView": "form",
        "colab": {}
      },
      "source": [
        "#@title Answer\n",
        "sample_dict = {1: 'hi', 2: 'hello', 3: 'hey'}\n",
        "print(sample_dict) \n",
        "sample_dict.pop(3) \n",
        "print(sample_dict) "
      ],
      "execution_count": 0,
      "outputs": []
    },
    {
      "cell_type": "markdown",
      "metadata": {
        "id": "REQvyiqwL89m",
        "colab_type": "text"
      },
      "source": [
        "Using **clear()** method"
      ]
    },
    {
      "cell_type": "code",
      "metadata": {
        "id": "TAsl91MyMARy",
        "colab_type": "code",
        "colab": {}
      },
      "source": [
        "sample_dict = {1: 'hi', 2: 'hello', 3: 'hey'}\n",
        "print(sample_dict) \n",
        "sample_dict.clear() \n",
        "print(sample_dict) "
      ],
      "execution_count": 0,
      "outputs": []
    },
    {
      "cell_type": "markdown",
      "metadata": {
        "id": "SUOLi7FmQxEx",
        "colab_type": "text"
      },
      "source": [
        "Excercise 19: Create any new dictionary with title excercise_dictionary, print it and clear the contents of it along with printing it.\n"
      ]
    },
    {
      "cell_type": "code",
      "metadata": {
        "id": "W4yAIppqLbOG",
        "colab_type": "code",
        "cellView": "form",
        "colab": {}
      },
      "source": [
        "#@title Answer\n",
        "excercise_dictionary = {\"first\": 'hi', \"second\": 'hello', \"third\": 'hey'}\n",
        "print(excercise_dictionary) \n",
        "excercise_dictionary.clear() \n",
        "print(excercise_dictionary) "
      ],
      "execution_count": 0,
      "outputs": []
    },
    {
      "cell_type": "markdown",
      "metadata": {
        "id": "Ls9drYwGLuyq",
        "colab_type": "text"
      },
      "source": [
        "Check the length of dictionary"
      ]
    },
    {
      "cell_type": "code",
      "metadata": {
        "id": "Pq0fUJmtLx49",
        "colab_type": "code",
        "colab": {}
      },
      "source": [
        "sample_dict = {1: 'hi', 2: 'hello', 3: 'hey'}\n",
        "print(len(sample_dict))"
      ],
      "execution_count": 0,
      "outputs": []
    },
    {
      "cell_type": "markdown",
      "metadata": {
        "id": "WPKcr_gcLsof",
        "colab_type": "text"
      },
      "source": [
        "**List of Dicts**"
      ]
    },
    {
      "cell_type": "code",
      "metadata": {
        "id": "yL-Y2k2nLxwm",
        "colab_type": "code",
        "colab": {}
      },
      "source": [
        "sample_list=[{1:\"hi\", 2:\"hello\"}, {\"color\":\"black\"}, {5:8, 7:4, 9:6}]\n",
        "print(sample_list)"
      ],
      "execution_count": 0,
      "outputs": []
    },
    {
      "cell_type": "markdown",
      "metadata": {
        "id": "cTh7RH-gMLXk",
        "colab_type": "text"
      },
      "source": [
        "Excercise 20: Retrieve the color value (\"black\") from above list"
      ]
    },
    {
      "cell_type": "code",
      "metadata": {
        "id": "YKUaIMogMmUZ",
        "colab_type": "code",
        "cellView": "form",
        "colab": {}
      },
      "source": [
        "#@title Answer\n",
        "sample_list=[{1:\"hi\", 2:\"hello\"}, {\"color\":\"black\"}, {5:8, 7:4, 9:6}]\n",
        "print(sample_list[1][\"color\"])"
      ],
      "execution_count": 0,
      "outputs": []
    },
    {
      "cell_type": "markdown",
      "metadata": {
        "id": "4xVl3ylyNEC1",
        "colab_type": "text"
      },
      "source": [
        "**Dict of Lists**"
      ]
    },
    {
      "cell_type": "code",
      "metadata": {
        "id": "dWGM4BzHNPjA",
        "colab_type": "code",
        "colab": {}
      },
      "source": [
        "sample_dict = {1:[\"hi\",\"hello\",\"hey\"], \"colors\":[\"black\", \"white\", \"blue\"], \"accessories\": [\"watch\", \"ring\", \"bracelet\", \"hand bag\"]}\n",
        "print(sample_dict)"
      ],
      "execution_count": 0,
      "outputs": []
    },
    {
      "cell_type": "markdown",
      "metadata": {
        "id": "pLtDl68VNxMI",
        "colab_type": "text"
      },
      "source": [
        "Excercise 21: Retrieve the color value (\"black\") from above list"
      ]
    },
    {
      "cell_type": "code",
      "metadata": {
        "id": "YtZFysQvNrGf",
        "colab_type": "code",
        "cellView": "form",
        "colab": {}
      },
      "source": [
        "#@title Answer\n",
        "sample_dict = {1:[\"hi\",\"hello\",\"hey\"], \"colors\":[\"black\", \"white\", \"blue\"], \"accessories\": [\"watch\", \"ring\", \"bracelet\", \"hand bag\"]}\n",
        "print(sample_dict[\"colors\"][0])"
      ],
      "execution_count": 0,
      "outputs": []
    }
  ]
}