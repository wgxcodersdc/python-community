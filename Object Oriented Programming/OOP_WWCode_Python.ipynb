{
  "nbformat": 4,
  "nbformat_minor": 0,
  "metadata": {
    "colab": {
      "name": "OOP_WGXCode_Python.ipynb",
      "provenance": []
    },
    "kernelspec": {
      "name": "python3",
      "display_name": "Python 3"
    },
    "language_info": {
      "name": "python"
    }
  },
  "cells": [
    {
      "cell_type": "markdown",
      "metadata": {
        "id": "8XKvdbyyThYS"
      },
      "source": [
        "**Class >> Object >> Instance**"
      ]
    },
    {
      "cell_type": "code",
      "metadata": {
        "id": "5Rmgt7Q7btol"
      },
      "source": [
        "# General Class syntax\n",
        "\n",
        "class <ClassName>:        # Header\n",
        "  <class_attributes>      # Body \n",
        "  <__init__()>            # Body\n",
        "  <methods>               # Body\n",
        "\n",
        "# i.e.\n",
        "\n",
        "# class <ClassName>:\n",
        "class Rectangle:\n",
        "\n",
        "  def __init__(self, length, width, color): # parameters\n",
        "    #instance.attribute = value\n",
        "    self.length = length\n",
        "    self.width = width\n",
        "    self.color = color"
      ],
      "execution_count": null,
      "outputs": []
    },
    {
      "cell_type": "code",
      "metadata": {
        "id": "sJAl02nAcp2D"
      },
      "source": [
        "# General Instance Syntax\n",
        "\n",
        "# Syntax: <var_name> = <ClassName>(<parameters_list>)\n",
        "\n",
        "# i.e.\n",
        "\n",
        "my_rectangle = Rectangle(5, 4, \"Blue\")"
      ],
      "execution_count": null,
      "outputs": []
    },
    {
      "cell_type": "markdown",
      "metadata": {
        "id": "AfNrnVv6krd5"
      },
      "source": [
        "**METHODS**\n"
      ]
    },
    {
      "cell_type": "code",
      "metadata": {
        "id": "tW3ua8uITYp_"
      },
      "source": [
        "# Example 1\n",
        "\n",
        "class Patient: #Header\n",
        "  patient_id = 1 #Body\n",
        "\n",
        "  def __init__(self, name, age, disease): \n",
        "\n",
        "    self.name = name\n",
        "    self.age = age\n",
        "    self.disease = disease\n",
        "    self.id = Patient.patient_id\n",
        "\n",
        "    Patient.patient_id += 1\n",
        "  \n",
        "  def display_patient_data(self): #Method 2\n",
        "\n",
        "    # Instance methods are functions that are defined inside a class and can only be called from an instance of that class. \n",
        "    # Just like .__init__(), an instance method’s first parameter is always self.\n",
        "\n",
        "    print(\"Patient ID: \", self.id)\n",
        "    print(\"Name: \", self.name)\n",
        "    print(\"Age: \", self.age)\n",
        "    print(\"Disease: \", self.disease)"
      ],
      "execution_count": null,
      "outputs": []
    },
    {
      "cell_type": "code",
      "metadata": {
        "id": "fYqU70jOXOHG"
      },
      "source": [
        "patient1 = Patient(\"Brenda\", 42, \"Gengivitis\") #instance 1\n",
        "patient2 = Patient(\"Carl\", 21, \"Flu\") #instance 2"
      ],
      "execution_count": null,
      "outputs": []
    },
    {
      "cell_type": "code",
      "metadata": {
        "id": "VhqUZvCMpjMR"
      },
      "source": [
        "# General calling a method syntax\n",
        "\n",
        "# Syntax: <obj_var>.<method>(<parameters>)"
      ],
      "execution_count": null,
      "outputs": []
    },
    {
      "cell_type": "code",
      "metadata": {
        "colab": {
          "base_uri": "https://localhost:8080/"
        },
        "id": "FgU2uvHQUoeV",
        "outputId": "1362bdf8-3a44-4891-f0ef-e577c65b3fa7"
      },
      "source": [
        "# Using our patient instances to call the display_patient_data method of the Patient class\n",
        "#instance.method()\n",
        "\n",
        "patient1.display_patient_data()\n",
        "patient2.display_patient_data()"
      ],
      "execution_count": null,
      "outputs": [
        {
          "output_type": "stream",
          "name": "stdout",
          "text": [
            "Patient ID:  1\n",
            "Name:  Brenda\n",
            "Age:  42\n",
            "Disease:  Gengivitis\n",
            "Patient ID:  2\n",
            "Name:  Carl\n",
            "Age:  21\n",
            "Disease:  Flu\n"
          ]
        }
      ]
    },
    {
      "cell_type": "code",
      "metadata": {
        "id": "9iF27_ydXIC0"
      },
      "source": [
        "# Example 2 - Code with me\n",
        "\n",
        "class Calculator:\n",
        "\n",
        "  def __init__(self, model, year, serial_num):\n",
        "    self.model = model\n",
        "    self.year = year\n",
        "    self.serial_num = serial_num\n",
        "  \n",
        "  # Method that adds two numbers \n",
        "  def add(self, a, b):\n",
        "    return a + b\n",
        "  # Method that subracts two numbers\n",
        "  def subtract(self, a, b):\n",
        "    if a > b:\n",
        "      return a - b\n",
        "    else:\n",
        "      raise ValueError(\"a is smaller than b\")\n",
        "  # Method that multiplies two numbers\n",
        "  def multiply(self, a, b):\n",
        "    return a * b"
      ],
      "execution_count": null,
      "outputs": []
    },
    {
      "cell_type": "code",
      "metadata": {
        "id": "VFGGt2-_ohIP"
      },
      "source": [
        "# Create a calculator instance\n",
        "\n",
        "my_calculator = Calculator(\"Texas Instruments\", 2021, 12345)"
      ],
      "execution_count": null,
      "outputs": []
    },
    {
      "cell_type": "code",
      "metadata": {
        "colab": {
          "base_uri": "https://localhost:8080/"
        },
        "id": "K4a9Qb5jpIaz",
        "outputId": "4f4a5a91-55d8-4c6c-a7d8-dc4f55cd1d15"
      },
      "source": [
        "# Call the add method\n",
        "my_calculator.add(10,20)"
      ],
      "execution_count": null,
      "outputs": [
        {
          "output_type": "execute_result",
          "data": {
            "text/plain": [
              "30"
            ]
          },
          "metadata": {},
          "execution_count": 133
        }
      ]
    },
    {
      "cell_type": "code",
      "metadata": {
        "colab": {
          "base_uri": "https://localhost:8080/"
        },
        "id": "QLUAb02zqzyx",
        "outputId": "c8fe1d76-4130-499d-f44d-4b020cbb6531"
      },
      "source": [
        "# Alternative syntax to call a method\n",
        "\n",
        "# Syntax: <ClassName>.<method_name>(<instance>,<args>)\n",
        "\n",
        "Calculator.add(my_calculator, 5, 2)"
      ],
      "execution_count": null,
      "outputs": [
        {
          "output_type": "execute_result",
          "data": {
            "text/plain": [
              "7"
            ]
          },
          "metadata": {},
          "execution_count": 134
        }
      ]
    },
    {
      "cell_type": "code",
      "metadata": {
        "id": "hWbkv8JlrBNH"
      },
      "source": [
        "# alt calling the add method\n",
        "\n"
      ],
      "execution_count": null,
      "outputs": []
    },
    {
      "cell_type": "markdown",
      "metadata": {
        "id": "bObL1D8SmBPN"
      },
      "source": [
        "**Methods Style Guide**\n",
        "\n",
        "\n",
        "\n",
        "*   Should be written in lower case separated by underscores (aka snake_case)\n",
        "  * i.e.\n",
        "  * display_patient_data\n",
        "*   Contain a variable\n",
        "  * i.e.\n",
        "  * find_area\n",
        "* If the method returns a boolean value (T or F):\n",
        "  * the name should describe this\n",
        "  * i.e.\n",
        "  * is_red or has_child\n",
        "\n",
        "\n"
      ]
    },
    {
      "cell_type": "code",
      "metadata": {
        "id": "VBcaDEGMm3F5"
      },
      "source": [
        "# Call methods from other methods\n",
        "\n",
        "# syntax : self.method_name(<args>)\n",
        "\n",
        "class Circle:\n",
        "\n",
        "  pi = 3.1416\n",
        "\n",
        "  def __init__(self, radius, color):\n",
        "    self.radius = radius\n",
        "    self.color = color\n",
        "\n",
        "  # method that returns the srea of a circle using the class attribute & radius\n",
        "\n",
        "  def find_area(self):\n",
        "    return Circle.pi * self.radius ** 2"
      ],
      "execution_count": null,
      "outputs": []
    },
    {
      "cell_type": "code",
      "metadata": {
        "id": "s_oRQUKtsnv9"
      },
      "source": [
        "# instance\n",
        "\n",
        "blue_circle = Circle(15, \"Blue\")"
      ],
      "execution_count": null,
      "outputs": []
    },
    {
      "cell_type": "code",
      "metadata": {
        "colab": {
          "base_uri": "https://localhost:8080/"
        },
        "id": "_ZybtEK6sxk-",
        "outputId": "c8a8738e-fcf5-4119-a865-5a0ad434915a"
      },
      "source": [
        "# call the method with blue circle and assign the result to a variable find_area\n",
        "\n",
        "find_area = Circle.find_area(blue_circle)\n",
        "\n",
        "print(find_area)"
      ],
      "execution_count": null,
      "outputs": [
        {
          "output_type": "stream",
          "name": "stdout",
          "text": [
            "706.86\n"
          ]
        }
      ]
    },
    {
      "cell_type": "markdown",
      "metadata": {
        "id": "9P4xaoL5ukN7"
      },
      "source": [
        "**Getters & Setters & Properties**"
      ]
    },
    {
      "cell_type": "code",
      "metadata": {
        "colab": {
          "base_uri": "https://localhost:8080/"
        },
        "id": "vNC3awJ_y-NE",
        "outputId": "550020bd-e1fe-4635-f421-6ba401276550"
      },
      "source": [
        "# quick recap on public vs private\n",
        "\n",
        "class Car:\n",
        "  def __init__(self, model, year, id_num, engine_serial_num):\n",
        "    self.model = model # public\n",
        "    self.year = year #public\n",
        "    self._id_num = id_num #private\n",
        "    self.__engine_serial_num = engine_serial_num #private\n",
        "\n",
        "  def display_car_data(self): \n",
        "    print(\"ID Number \", self._id_num)\n",
        "\n",
        "#instance\n",
        "\n",
        "my_car = Car(\"Hyundai Sonata\", 2014, 1234, 5678910)\n",
        "\n",
        "# You can still access the non-public instance attributes TECHNICALLY, but you shouldn't, but here's how\n",
        "print(my_car._id_num)"
      ],
      "execution_count": null,
      "outputs": [
        {
          "output_type": "stream",
          "name": "stdout",
          "text": [
            "1234\n"
          ]
        }
      ]
    },
    {
      "cell_type": "code",
      "metadata": {
        "colab": {
          "base_uri": "https://localhost:8080/"
        },
        "id": "LbRoSaUgz86s",
        "outputId": "31c39999-3df7-4736-ff9f-ea1fb0466b62"
      },
      "source": [
        "# Accessing the double underscore -- Use the ClassName\n",
        "\n",
        "my_car._Car__engine_serial_num\n",
        "#print(my_car.__engine_serial_num) #it won't display"
      ],
      "execution_count": null,
      "outputs": [
        {
          "output_type": "execute_result",
          "data": {
            "text/plain": [
              "5678910"
            ]
          },
          "metadata": {},
          "execution_count": 142
        }
      ]
    },
    {
      "cell_type": "code",
      "metadata": {
        "id": "IxmWbZUx1e8y"
      },
      "source": [
        "# GETTERS\n",
        "# Let us access the attribute indirectly\n",
        "# Syntax: get_<attribute>\n",
        "\n",
        "class Dog:\n",
        "  def __init__(self, name):\n",
        "    self.name = name\n",
        "\n",
        "  def get_name(self):\n",
        "    return self.name"
      ],
      "execution_count": null,
      "outputs": []
    },
    {
      "cell_type": "code",
      "metadata": {
        "id": "l2_ODFxY2O_5"
      },
      "source": [
        "# SETTERS\n",
        "# Modify attribute indirectly\n",
        "\n",
        "class Dog:\n",
        "  def __init__(self, name):\n",
        "    self._name = name\n",
        "  \n",
        "  def get_name(self):\n",
        "    return self._name\n",
        "\n",
        "  def set_name(self, name):\n",
        "        if isinstance(name, str): # condition with built in isinstance function\n",
        "          self._name = name\n",
        "        else:\n",
        "          print(\"Please enter a valid name\")"
      ],
      "execution_count": null,
      "outputs": []
    },
    {
      "cell_type": "code",
      "metadata": {
        "id": "j1tjrBRr7ga7"
      },
      "source": [
        "# create a dog instance\n",
        "\n",
        "dog1 = Dog(\"Nora\")"
      ],
      "execution_count": null,
      "outputs": []
    },
    {
      "cell_type": "code",
      "metadata": {
        "id": "08kCJKYy4wbZ"
      },
      "source": [
        "# Set the name to Emily\n",
        "\n",
        "dog1.set_name(\"Emily\")\n"
      ],
      "execution_count": null,
      "outputs": []
    },
    {
      "cell_type": "code",
      "metadata": {
        "colab": {
          "base_uri": "https://localhost:8080/"
        },
        "id": "YxJHllgO4zRJ",
        "outputId": "074b37ed-d265-4cb4-96b3-96fda13c3498"
      },
      "source": [
        "print(dog1.get_name())"
      ],
      "execution_count": null,
      "outputs": [
        {
          "output_type": "stream",
          "name": "stdout",
          "text": [
            "Emily\n"
          ]
        }
      ]
    },
    {
      "cell_type": "code",
      "metadata": {
        "id": "IL-1SKrz64BU"
      },
      "source": [
        "# PROPERTIES\n",
        "# Access the instance attribute by using the properties of the getter and setter\n",
        "\n",
        "class Dog:\n",
        "  def __init__(self, age):\n",
        "    self._age = age\n",
        "  \n",
        "  def get_age(self):\n",
        "    return self._age\n",
        "  \n",
        "  def set_age(self, age):\n",
        "    if isinstance(age, int) and 0<age<40:\n",
        "      self._age = age\n",
        "    else:\n",
        "      print(\"Please Enter a valid age\")\n",
        "  \n",
        "  age = property(get_age, set_age)"
      ],
      "execution_count": null,
      "outputs": []
    },
    {
      "cell_type": "code",
      "metadata": {
        "id": "jnFMCT9g8aEP"
      },
      "source": [
        "# Create an instance\n",
        "dog2 = Dog(20)"
      ],
      "execution_count": null,
      "outputs": []
    },
    {
      "cell_type": "code",
      "metadata": {
        "colab": {
          "base_uri": "https://localhost:8080/"
        },
        "id": "Vm-Sgo6W9w8O",
        "outputId": "b87c16d3-56a1-4730-b044-e38aa79ca1b4"
      },
      "source": [
        "# Getting the age of dog 2 using the age propoerty()\n",
        "dog2.age"
      ],
      "execution_count": null,
      "outputs": [
        {
          "output_type": "execute_result",
          "data": {
            "text/plain": [
              "20"
            ]
          },
          "metadata": {},
          "execution_count": 151
        }
      ]
    },
    {
      "cell_type": "code",
      "metadata": {
        "id": "xSY31Wjx8zai"
      },
      "source": [
        "# Set dog2 to a different age using the age property()\n",
        "dog2.age = 15"
      ],
      "execution_count": null,
      "outputs": []
    },
    {
      "cell_type": "code",
      "metadata": {
        "colab": {
          "base_uri": "https://localhost:8080/"
        },
        "id": "GReO8Oe49kiO",
        "outputId": "b18a4cf1-ae1e-48c1-94ba-72fc877c7b79"
      },
      "source": [
        "dog2.age"
      ],
      "execution_count": null,
      "outputs": [
        {
          "output_type": "execute_result",
          "data": {
            "text/plain": [
              "15"
            ]
          },
          "metadata": {},
          "execution_count": 154
        }
      ]
    },
    {
      "cell_type": "code",
      "metadata": {
        "id": "ZIFlYeZv-Mzs"
      },
      "source": [
        "#PROPERTY DECORATORS\n",
        "\n",
        "# Decorators let us add new functionality to an existing property function without modifying it.\n",
        "\n",
        "class Dog:\n",
        "  def __init__(self, age):\n",
        "    self._age = age\n",
        "\n",
        "  @property\n",
        "  def age(self):\n",
        "    print(\"Running getter\")\n",
        "    return self._age\n",
        "\n",
        "  @age.setter\n",
        "  def age(self, new_age):\n",
        "    print(\"Running setter\")\n",
        "    if isinstance(new_age, int) and 0 < new_age < 40:\n",
        "      self._age = new_age\n",
        "    else:\n",
        "      print(\"please enter a valid age\")"
      ],
      "execution_count": null,
      "outputs": []
    },
    {
      "cell_type": "code",
      "metadata": {
        "id": "PmBal80B-9sn"
      },
      "source": [
        "# Create your instance \n",
        "\n",
        "dog3 = Dog(15)"
      ],
      "execution_count": null,
      "outputs": []
    },
    {
      "cell_type": "code",
      "metadata": {
        "colab": {
          "base_uri": "https://localhost:8080/"
        },
        "id": "Acyqeupc_GBx",
        "outputId": "c1b9b3b4-a544-45bc-c72d-cab70e4e0b85"
      },
      "source": [
        "dog3.age # getter"
      ],
      "execution_count": null,
      "outputs": [
        {
          "output_type": "stream",
          "name": "stdout",
          "text": [
            "Running getter\n"
          ]
        },
        {
          "output_type": "execute_result",
          "data": {
            "text/plain": [
              "15"
            ]
          },
          "metadata": {},
          "execution_count": 157
        }
      ]
    },
    {
      "cell_type": "code",
      "metadata": {
        "colab": {
          "base_uri": "https://localhost:8080/"
        },
        "id": "7cJ2bVVg-WMf",
        "outputId": "b25a3590-8ac5-4d72-b744-a6553f064b57"
      },
      "source": [
        "dog3.age = 32 # setter\n",
        "dog3.age # getter"
      ],
      "execution_count": null,
      "outputs": [
        {
          "output_type": "stream",
          "name": "stdout",
          "text": [
            "Running setter\n",
            "Running getter\n"
          ]
        },
        {
          "output_type": "execute_result",
          "data": {
            "text/plain": [
              "32"
            ]
          },
          "metadata": {},
          "execution_count": 159
        }
      ]
    },
    {
      "cell_type": "code",
      "metadata": {
        "colab": {
          "base_uri": "https://localhost:8080/"
        },
        "id": "1oWyE6uiC6gN",
        "outputId": "d3896027-c3e9-4822-b1f7-559f1bf36442"
      },
      "source": [
        "# Using Abstraction\n",
        "\n",
        "class Pet:\n",
        "    def __init__(self, name, animal_type, age):\n",
        "        self._name = name\n",
        "        self._animal_type = animal_type\n",
        "        self._age = age\n",
        "\n",
        "    @property\n",
        "    def name(self):\n",
        "        return self._name\n",
        "\n",
        "    @name.setter\n",
        "    def name(self,new_name):\n",
        "        self._name = new_name\n",
        "\n",
        "    @property\n",
        "    def age(self):\n",
        "        return self._age\n",
        "\n",
        "    @age.setter\n",
        "    def age(self,new_age):\n",
        "        self._age = new_age\n",
        "\n",
        "    @property\n",
        "    def animal_type(self):\n",
        "        return self._animal_type\n",
        "\n",
        "    @animal_type.setter\n",
        "    def animal_type(self,new_animal_type):\n",
        "        self._animal_type = new_animal_type\n",
        "\n",
        "\n",
        "pet_name = input('Please enter your pet\\'s name: ')\n",
        "pet_type = input('What animal is your pet? ')\n",
        "pet_age = float(input('What is the age of your pet? '))\n",
        "\n",
        "pet_input = Pet(pet_name,pet_type,pet_age)\n",
        "\n",
        "print('pet name is ', pet_input.name) # using the name getter\n",
        "print('pet type is ', pet_input.animal_type)\n",
        "print('pet age is ', pet_input.age)"
      ],
      "execution_count": null,
      "outputs": [
        {
          "output_type": "stream",
          "name": "stdout",
          "text": [
            "Please enter your pet's name: Nora\n",
            "What animal is your pet? Dog\n",
            "What is the age of your pet? 15\n",
            "pet name is  Nora\n",
            "pet type is  Dog\n",
            "pet age is  15.0\n"
          ]
        }
      ]
    },
    {
      "cell_type": "code",
      "metadata": {
        "colab": {
          "base_uri": "https://localhost:8080/"
        },
        "id": "Nzmy8yK8H3Lb",
        "outputId": "4d89df02-2284-4ac5-e6f3-a8b74e04e02d"
      },
      "source": [
        "new_pet_name = input('Please enter the new name: ')\n",
        "pet_input.name = new_pet_name\n",
        "\n",
        "print('New pet name is ', pet_input.name)\n"
      ],
      "execution_count": null,
      "outputs": [
        {
          "output_type": "stream",
          "name": "stdout",
          "text": [
            "Please enter the new name: Brenda\n",
            "New pet name is  Brenda\n"
          ]
        }
      ]
    },
    {
      "cell_type": "markdown",
      "metadata": {
        "id": "cBGk491aKlQ7"
      },
      "source": [
        "**INHERITENCE**"
      ]
    },
    {
      "cell_type": "code",
      "metadata": {
        "id": "G2QbFTQ3Knrq"
      },
      "source": [
        "# Inheritance Syntax\n",
        "\n",
        "# class Parent:\n",
        "  # body\n",
        "\n",
        "# class Child:\n",
        "  # body"
      ],
      "execution_count": null,
      "outputs": []
    },
    {
      "cell_type": "code",
      "metadata": {
        "id": "neHtuIXrPaHZ"
      },
      "source": [
        "# Example \n",
        "\n",
        "# Parent Class\n",
        "class Employee:\n",
        "\n",
        "  salary = 100,000\n",
        "  monhtly_bonus = 500\n",
        "\n",
        "  def __init__(self, name, age, address, phone):\n",
        "    self.name = name \n",
        "    self.age = age\n",
        "    self.address = address\n",
        "    self.phone = phone\n",
        "\n",
        "# Inherited Class\n",
        "class Programmer(Employee):\n",
        "  def __init__(self, name, age, address, phone, prog_lang):\n",
        "    Employee.__init__(self, name, age, address, phone)\n",
        "    self.prog_lang = prog_lang\n",
        "\n",
        "# Inherited Class\n",
        "class SalesPerson(Employee):\n",
        "  def __init__(self, name, age, address, phone, bilingual):\n",
        "    Employee.__init__(self, name, age, address, phone)\n",
        "    self.bilingual = bilingual\n",
        "\n"
      ],
      "execution_count": null,
      "outputs": []
    },
    {
      "cell_type": "code",
      "metadata": {
        "id": "pk8foVsxP1zM"
      },
      "source": [
        "# Example of Method Inheritance\n",
        "\n",
        "class Person:\n",
        "  def __init__(self, fname, lname):\n",
        "    self.firstname = fname\n",
        "    self.lastname = lname\n",
        "\n",
        "  def printname(self):\n",
        "    print(self.firstname, self.lastname)\n",
        "\n",
        "class Student(Person):\n",
        "  def __init__(self, fname, lname, year):\n",
        "    super().__init__(fname, lname)\n",
        "    self.graduationyear = year\n",
        "\n",
        "  def welcome(self):\n",
        "    print(\"Welcome\", self.firstname, self.lastname, \"to the class of\", self.graduationyear)\n"
      ],
      "execution_count": null,
      "outputs": []
    },
    {
      "cell_type": "code",
      "metadata": {
        "colab": {
          "base_uri": "https://localhost:8080/"
        },
        "id": "A7fHH6o9UYxl",
        "outputId": "ccc626a5-ddea-4144-f32d-7f12055c26cc"
      },
      "source": [
        "# Create a student instance\n",
        "student1 = Student(\"Howard\", \"Randolf\", 2021)\n",
        "student1.welcome()"
      ],
      "execution_count": null,
      "outputs": [
        {
          "output_type": "stream",
          "name": "stdout",
          "text": [
            "Welcome Howard Randolf to the class of 2021\n"
          ]
        }
      ]
    }
  ]
}